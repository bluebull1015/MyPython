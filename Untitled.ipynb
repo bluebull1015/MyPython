{
 "cells": [
  {
   "cell_type": "code",
   "execution_count": 50,
   "id": "65edcfbc-6e34-480a-9f18-bdf47d6e543a",
   "metadata": {},
   "outputs": [],
   "source": [
    "import requests\n",
    "import urllib.parse\n",
    "from tqdm import tqdm\n",
    "import time\n",
    "import pandas as pd"
   ]
  },
  {
   "cell_type": "code",
   "execution_count": 44,
   "id": "62fee0ba-f1b7-4da9-b311-291f6d6c29ec",
   "metadata": {},
   "outputs": [],
   "source": [
    "def news_api(query,display,start,sort):\n",
    "    client_id = \"mSoJcqj0YQbP29jC1wPl\"\n",
    "    client_secret = \"4ITpTS3qUy\"\n",
    "    global response\n",
    "    url = f\"https://openapi.naver.com/v1/search/news.json?query={query}&display={display}&start={start}&sort={sort}\"\n",
    "    \n",
    "    headers = {\n",
    "        \"X-Naver-Client-Id\": client_id,\n",
    "        \"X-Naver-Client-Secret\": client_secret\n",
    "    }\n",
    "    \n",
    "    response = requests.get(url, headers=headers)\n",
    "    \n",
    "    if response.status_code == 200:\n",
    "        print(response.text)\n",
    "    else:\n",
    "        print(f\"Error 내용: {response.text}\")\n",
    "    #end if\n",
    "    # JSON 변환 (딕셔너리 형태로 변환됨)\n",
    "    return response.json()\n",
    "#end def\n",
    "\n",
    "\n"
   ]
  },
  {
   "cell_type": "code",
   "execution_count": 17,
   "id": "9860e0f7-b6e7-4cf7-b8e3-e19d637731a2",
   "metadata": {},
   "outputs": [
    {
     "name": "stdout",
     "output_type": "stream",
     "text": [
      "<class 'requests.models.Response'>\n"
     ]
    }
   ],
   "source": [
    "print(type(response))"
   ]
  },
  {
   "cell_type": "code",
   "execution_count": null,
   "id": "eb61e674-b62a-4e6a-acf2-b571aa86e6a6",
   "metadata": {},
   "outputs": [],
   "source": [
    "news_list = []\n",
    "\n",
    "query = '경제'\n",
    "display = 10\n",
    "start_values = range(1, 101, display)  \n",
    "sort = 'sim'\n",
    "\n",
    "\n",
    "for start in start_values:\n",
    "    news = news_api(query,display,start,sort)\n",
    "\n",
    "    lastBuildDate = news[\"lastBuildDate\"]\n",
    "    total = news[\"total\"]\n",
    "    start = news[\"start\"]\n",
    "    display = news[\"display\"]\n",
    "    \n",
    "    items = news[\"items\"]\n",
    "    this_news = items[0]\n",
    "    title = this_news[\"title\"]\n",
    "    originallink = this_news[\"originallink\"]\n",
    "    link = this_news[\"link\"]\n",
    "    description = this_news[\"description\"]\n",
    "    pubDate= this_news[\"pubDate\"]\n",
    "\n",
    "    news_list.append([lastBuildDate, total, start, display, title, originallink, link, description, pubDate])\n",
    "\n",
    "    columns = [\"빌드_날짜\", \"총_검색결과\", \"검색_시작\", \"출력_개수\", \"뉴스_제목\", \"원본_URL\", \"네이버_URL\", \"뉴스_요약\", \"게시_날짜\"]\n",
    "    news_dataframe = pd.DataFrame(news_list, columns=columns)\n",
    "    \n",
    "    time.sleep(1)"
   ]
  },
  {
   "cell_type": "code",
   "execution_count": 53,
   "id": "417a3778-b0ef-4884-b862-c103003d8d03",
   "metadata": {},
   "outputs": [],
   "source": [
    "news_dataframe.to_csv(\"news_data.csv\", index=False, encoding=\"utf-8-sig\")"
   ]
  },
  {
   "cell_type": "code",
   "execution_count": 55,
   "id": "fd130b19-4e46-40ef-b3e1-18b23d1b470c",
   "metadata": {},
   "outputs": [
    {
     "data": {
      "text/plain": [
       "0    '이사의 주주 충실 의무'를 골자로 한 상법 개정안이 국회 본회의를 통과한 데 대해...\n",
       "1    겸 <b>경제</b>부총리에게 소상공인 위기 극복을 위한 내수 활성화 및 소상공인 ...\n",
       "2    이와 함께 트럼프 대통령은 관세 정책 불확실성 때문에 증시가 최근 급락한 것과 관련...\n",
       "3    오세훈 서울시장이 12일 &quot;중장년층의 일자리를 단순한 복지가 아닌 <b>경...\n",
       "4    통과하자 <b>경제</b>계가 일제히 반발했다. 상법 개정안이 통과하면 기업의 정상...\n",
       "5    또 약 5억 8000만 원 상당의 선용품이 공급될 예정이어서 지역<b>경제</b>에...\n",
       "6    이 대표는 “지금 증폭되는 불안과 분노로 대한민국 민주주의는 물론 <b>경제</b>...\n",
       "7    트럼프 대통령의 주요 후원자이기도 한 슈바르츠먼 CEO는 &quot;미국의 <b>경...\n",
       "8    경기<b>경제</b>자유구역청은 지난 13일 평택 포승BIX지구 내 공공임대 산업단...\n",
       "9    인천상공회의소가 운영하는 인천<b>경제</b>단체협의회는 13일 국가정보원 지부와 ...\n",
       "Name: 뉴스_요약, dtype: object"
      ]
     },
     "execution_count": 55,
     "metadata": {},
     "output_type": "execute_result"
    }
   ],
   "source": [
    "news_dataframe['뉴스_요약']"
   ]
  },
  {
   "cell_type": "code",
   "execution_count": null,
   "id": "8a5c1af3-254f-4fd8-9865-31d2361f40a9",
   "metadata": {},
   "outputs": [],
   "source": []
  }
 ],
 "metadata": {
  "kernelspec": {
   "display_name": "Python 3 (ipykernel)",
   "language": "python",
   "name": "python3"
  },
  "language_info": {
   "codemirror_mode": {
    "name": "ipython",
    "version": 3
   },
   "file_extension": ".py",
   "mimetype": "text/x-python",
   "name": "python",
   "nbconvert_exporter": "python",
   "pygments_lexer": "ipython3",
   "version": "3.12.6"
  }
 },
 "nbformat": 4,
 "nbformat_minor": 5
}
