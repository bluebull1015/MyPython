{
 "cells": [
  {
   "cell_type": "code",
   "execution_count": 13,
   "id": "83856292-0317-4617-8ab5-38840027684f",
   "metadata": {},
   "outputs": [],
   "source": [
    "import numpy as np\n",
    "import pandas as pd \n",
    "import requests\n",
    "import folium\n",
    "import time\n",
    "\n",
    "from tqdm.notebook import tqdm\n",
    "from bs4 import BeautifulSoup\n",
    "\n",
    "from selenium import webdriver\n",
    "from selenium.webdriver.chrome.service import Service\n",
    "from selenium.webdriver.common.by import By\n",
    "from selenium.webdriver.support.ui import WebDriverWait\n",
    "from selenium.webdriver.support import expected_conditions as EC"
   ]
  },
  {
   "cell_type": "code",
   "execution_count": 8,
   "id": "fabda622-2664-4553-8b99-67542ebebb44",
   "metadata": {},
   "outputs": [
    {
     "name": "stdout",
     "output_type": "stream",
     "text": [
      "<class 'selenium.webdriver.chrome.webdriver.WebDriver'>\n"
     ]
    }
   ],
   "source": [
    "chrome_options = webdriver.ChromeOptions() \n",
    "drive_path = 'chromedriver.exe'\n",
    "myservice = Service(drive_path)\n",
    "driver = webdriver.Chrome(service=myservice, options=chrome_options) # 드라이버 객체\n",
    "print(type(driver))\n",
    "\n",
    "wait_time = 10\n",
    "driver.implicitly_wait(wait_time)"
   ]
  },
  {
   "cell_type": "code",
   "execution_count": 9,
   "id": "61dabe99-eed6-4727-bc08-2da28c4770b4",
   "metadata": {},
   "outputs": [],
   "source": [
    "# 폴 바셋 매장 찾기\n",
    "paulbassett_url = 'https://www.baristapaulbassett.co.kr/store/Store.pb'\n",
    "driver.get(paulbassett_url) # 해당 페이지로 이동하시오."
   ]
  },
  {
   "cell_type": "code",
   "execution_count": 15,
   "id": "2cf3571d-4461-42c4-a6ba-063c0297dddc",
   "metadata": {},
   "outputs": [],
   "source": [
    "# 폴 바셋 '지역' 링크 클릭\n",
    "paulbassett_local_selector = '#storeLocationEl > a'\n",
    "WebDriverWait(driver, 5).until(EC.presence_of_element_located((By.CSS_SELECTOR, paulbassett_local_selector))).click()\n",
    "time.sleep(1)\n",
    "\n",
    "# 폴 바셋 '서울특별시' 링크 클릭\n",
    "paulbassett_seoul_selector = '#areaList > li:nth-child(1) > a'\n",
    "WebDriverWait(driver, 5).until(EC.presence_of_element_located((By.CSS_SELECTOR, paulbassett_seoul_selector))).click()\n",
    "time.sleep(1)\n",
    "\n",
    "# 폴 바셋 '전체' 링크 클릭\n",
    "paulbassett_seoul_all_selector = '#countyList > li:nth-child(1) > a'\n",
    "WebDriverWait(driver, 5).until(EC.presence_of_element_located((By.CSS_SELECTOR, paulbassett_seoul_all_selector))).click()"
   ]
  },
  {
   "cell_type": "code",
   "execution_count": 16,
   "id": "8e07e959-9546-4c0a-9609-34af2f3b122c",
   "metadata": {},
   "outputs": [
    {
     "name": "stdout",
     "output_type": "stream",
     "text": [
      "paulbassett.html 파일 생성됨\n"
     ]
    }
   ],
   "source": [
    "# 폴 바셋 HTML 코드를 파싱하여 html 파일에 기록합니다.\n",
    "html = driver.page_source\n",
    "filename = 'paulbassett.html'\n",
    "htmlFile = open(filename, mode='wt', encoding='UTF-8')\n",
    "print(html, file=htmlFile)\n",
    "htmlFile.close()\n",
    "print(filename + ' 파일 생성됨')"
   ]
  },
  {
   "cell_type": "code",
   "execution_count": 17,
   "id": "cdca106a-34cb-4328-94c8-56d83aa5811c",
   "metadata": {},
   "outputs": [
    {
     "name": "stdout",
     "output_type": "stream",
     "text": [
      "<class 'bs4.BeautifulSoup'>\n"
     ]
    }
   ],
   "source": [
    "# 파싱된 결과를 BeautifulSoup 객체로 생성합니다.\n",
    "soup = BeautifulSoup(html, 'html.parser')\n",
    "print(type(soup))"
   ]
  },
  {
   "cell_type": "code",
   "execution_count": 50,
   "id": "2b2f197d-213f-425b-8dca-9f5b396fb3b3",
   "metadata": {},
   "outputs": [
    {
     "name": "stdout",
     "output_type": "stream",
     "text": [
      "None\n",
      "None\n",
      "None\n",
      "None\n",
      "None\n",
      "None\n",
      "None\n",
      "None\n",
      "None\n",
      "None\n",
      "None\n",
      "None\n",
      "None\n",
      "None\n",
      "None\n",
      "None\n",
      "None\n",
      "None\n",
      "None\n",
      "None\n",
      "None\n",
      "None\n",
      "None\n",
      "None\n",
      "None\n",
      "None\n",
      "None\n",
      "None\n",
      "None\n",
      "None\n",
      "None\n",
      "None\n",
      "None\n",
      "None\n",
      "None\n",
      "None\n",
      "None\n",
      "None\n",
      "None\n",
      "None\n",
      "None\n",
      "None\n",
      "None\n",
      "None\n",
      "None\n",
      "None\n",
      "None\n",
      "None\n",
      "None\n",
      "None\n",
      "None\n",
      "None\n",
      "None\n",
      "None\n",
      "None\n",
      "None\n",
      "None\n",
      "None\n"
     ]
    }
   ],
   "source": [
    "from bs4 import BeautifulSoup\n",
    "import pandas as pd\n",
    "\n",
    "# 모든 정보 창 가져오기 \n",
    "shop_list = soup.find(\"ul\", class_=\"src\", id=\"shopList\")\n",
    "# print(info_windows)\n",
    "\n",
    "# 데이터를 저장할 리스트\n",
    "data = []\n",
    "\n",
    "# 매장 정보 추출\n",
    "\n",
    "shop_items = shop_list.find_all(\"li\")  # 모든 <li> 태그 가져오기\n",
    "\n",
    "\n",
    "for shop in shop_items:\n",
    "    name = shop.select_one(\"strong\").text.strip() if shop.select_one(\"strong\") else \"이름 없음\"\n",
    "    address = shop.select_one(\"address\").text.strip() if shop.select_one(\"address\") else \"주소 없음\"\n",
    "    phone = shop.select_one(\"dl > dd\").text.strip() if shop.select_one(\"dl > dd\") else \"전화번호 없음\"\n",
    "\n",
    "    service_dict = {\n",
    "        '지하철 인접' : 'no',\n",
    "        '주차 가능' : 'no', \n",
    "        '로스팅' : 'no', \n",
    "        '커피 교육' : 'no', \n",
    "        '아이스크림(1FLAVOR)' : 'no',\n",
    "        '아이스크림(2FLAVOR)' : 'no', \n",
    "        '아이스크림(4FLAVOR)' : 'no', \n",
    "        '토핑 아이스크림' : 'no', \n",
    "        '싱글오리진' : 'no', \n",
    "        '딜리버리' : 'no',\n",
    "        '드라이브스루' : 'no', \n",
    "        '피자&파스타' : 'no', \n",
    "        '현금 없는 매장' : 'no', \n",
    "        '밀도' : 'no'\n",
    "    }\n",
    "\n",
    "    # 옵션(아이콘) 데이터 가져오기\n",
    "    option_area = shop.find(\"ul\", class_=\"option storeOptionArea\")  # 옵션이 있는 ul 찾기\n",
    "    # if option_area:\n",
    "    #     option_list = option_area.find_all(\"li\")  # 옵션 리스트(li 태그)\n",
    "    #     options = [opt.text.strip() for opt in option_list]  # 텍스트만 추출\n",
    "    # else:\n",
    "    #     options = [\"옵션 없음\"]\n",
    "\n",
    "    # options_text = \", \".join(options)\n",
    "    \n",
    "    # # 2D 리스트에 추가\n",
    "    # data.append([name, address, phone])\n",
    "    print(option_area)\n",
    "\n",
    "# 데이터프레임 생성\n",
    "df = pd.DataFrame(data, columns=[\"이름\", \"주소\", \"전화번호\"])\n",
    "\n"
   ]
  },
  {
   "cell_type": "code",
   "execution_count": 45,
   "id": "6969a83b-72e0-402c-91d7-f568ddfd9d0c",
   "metadata": {},
   "outputs": [],
   "source": []
  },
  {
   "cell_type": "code",
   "execution_count": null,
   "id": "99aacc20-3fef-441f-9f4d-bbd6dd9687a7",
   "metadata": {},
   "outputs": [],
   "source": []
  },
  {
   "cell_type": "code",
   "execution_count": null,
   "id": "e740a8f3-eb51-4485-a814-e6c97f1beea0",
   "metadata": {},
   "outputs": [],
   "source": []
  },
  {
   "cell_type": "code",
   "execution_count": null,
   "id": "4ce58ba5-2cff-4c72-86c9-6e7753b67121",
   "metadata": {},
   "outputs": [],
   "source": []
  },
  {
   "cell_type": "code",
   "execution_count": null,
   "id": "e1d00454-f8a6-44a5-9285-be3b7a68676c",
   "metadata": {},
   "outputs": [],
   "source": []
  },
  {
   "cell_type": "code",
   "execution_count": null,
   "id": "e2eeb60a-ab35-4d86-9160-0d7169b0d930",
   "metadata": {},
   "outputs": [],
   "source": []
  },
  {
   "cell_type": "code",
   "execution_count": null,
   "id": "9e048b61-bac0-4015-9858-f599c90c7570",
   "metadata": {},
   "outputs": [],
   "source": []
  },
  {
   "cell_type": "code",
   "execution_count": null,
   "id": "20ae06ab-41e9-497a-a580-ffefc2376361",
   "metadata": {},
   "outputs": [],
   "source": []
  },
  {
   "cell_type": "code",
   "execution_count": null,
   "id": "4c1d896a-f26c-48ef-9f32-b8c6d56164e3",
   "metadata": {},
   "outputs": [],
   "source": []
  },
  {
   "cell_type": "code",
   "execution_count": null,
   "id": "ecfe8a69-fb39-4a22-a7cb-4b93ee6b236c",
   "metadata": {},
   "outputs": [],
   "source": []
  },
  {
   "cell_type": "code",
   "execution_count": null,
   "id": "2820fb90-3111-4b80-82d4-502caacd633e",
   "metadata": {},
   "outputs": [],
   "source": []
  },
  {
   "cell_type": "code",
   "execution_count": null,
   "id": "e0d3508a-b87a-48bb-91a7-845d87f8c4b9",
   "metadata": {},
   "outputs": [],
   "source": []
  },
  {
   "cell_type": "code",
   "execution_count": null,
   "id": "697848dc-d09b-4adc-a3c3-52f5a597200a",
   "metadata": {},
   "outputs": [],
   "source": []
  },
  {
   "cell_type": "code",
   "execution_count": null,
   "id": "0ac95481-ed89-4e5c-9e1e-c35044061fd6",
   "metadata": {},
   "outputs": [],
   "source": []
  },
  {
   "cell_type": "code",
   "execution_count": null,
   "id": "6911bcc9-9a0d-4115-859c-d15f930fce7b",
   "metadata": {},
   "outputs": [],
   "source": []
  },
  {
   "cell_type": "code",
   "execution_count": null,
   "id": "18bb7d14-e9b2-4af7-bb37-c14eea6488fe",
   "metadata": {},
   "outputs": [],
   "source": []
  },
  {
   "cell_type": "code",
   "execution_count": null,
   "id": "c9d69bc3-9b73-4fcc-a943-03f0b02b84dc",
   "metadata": {},
   "outputs": [],
   "source": []
  },
  {
   "cell_type": "code",
   "execution_count": null,
   "id": "810d3d29-d3cf-4e0e-a1ab-40870cadfb64",
   "metadata": {},
   "outputs": [],
   "source": []
  },
  {
   "cell_type": "code",
   "execution_count": null,
   "id": "2b0bc26f-2d34-4838-a9a3-5e8dbc8a401b",
   "metadata": {},
   "outputs": [],
   "source": []
  },
  {
   "cell_type": "code",
   "execution_count": null,
   "id": "f3ac0611-e18f-4efe-9f77-e9234b93a70c",
   "metadata": {},
   "outputs": [],
   "source": []
  },
  {
   "cell_type": "code",
   "execution_count": null,
   "id": "f546f762-1631-41d7-bd1c-122cd1e1a55b",
   "metadata": {},
   "outputs": [],
   "source": []
  }
 ],
 "metadata": {
  "kernelspec": {
   "display_name": "Python 3 (ipykernel)",
   "language": "python",
   "name": "python3"
  },
  "language_info": {
   "codemirror_mode": {
    "name": "ipython",
    "version": 3
   },
   "file_extension": ".py",
   "mimetype": "text/x-python",
   "name": "python",
   "nbconvert_exporter": "python",
   "pygments_lexer": "ipython3",
   "version": "3.12.6"
  }
 },
 "nbformat": 4,
 "nbformat_minor": 5
}
