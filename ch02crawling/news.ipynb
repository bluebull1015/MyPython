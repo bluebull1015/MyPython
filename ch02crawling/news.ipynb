{
 "cells": [
  {
   "cell_type": "code",
   "execution_count": 18,
   "id": "60431eec-dd22-4cd5-9504-c176811a011b",
   "metadata": {},
   "outputs": [],
   "source": [
    "import numpy as np  # 수치 연산 및 배열 처리를 위한 라이브러리\n",
    "import pandas as pd  # 데이터 분석 및 DataFrame 처리를 위한 라이브러리\n",
    "import requests  # HTTP 요청을 보내고 API 데이터를 가져오는 라이브러리\n",
    "import folium  # 지도 시각화를 위한 라이브러리\n",
    "\n",
    "from tqdm.notebook import tqdm  # 코드 실행 중 진행 상태를 표시하는 진행 바\n",
    "from bs4 import BeautifulSoup  # HTML/XML 데이터를 파싱하여 웹 크롤링을 수행하는 라이브러리\n",
    "\n",
    "from selenium import webdriver  # 웹 브라우저 자동화를 위한 Selenium WebDriver 모듈\n",
    "from selenium.webdriver.chrome.service import Service  # Chrome WebDriver 실행을 위한 서비스 클래스\n",
    "from selenium.webdriver.common.by import By  # 웹 요소를 찾을 때 사용 (id, class, xpath 등)\n",
    "from selenium.webdriver.support.ui import WebDriverWait  # 특정 요소가 나타날 때까지 대기하는 기능 제공\n",
    "from selenium.webdriver.support import expected_conditions as EC  # 요소의 상태(로딩 완료, 클릭 가능 등)를 정의하는 조건 클래스"
   ]
  },
  {
   "cell_type": "code",
   "execution_count": 13,
   "id": "f4f2020b-9e5f-45b7-b9e1-77a5e81104de",
   "metadata": {},
   "outputs": [
    {
     "name": "stdout",
     "output_type": "stream",
     "text": [
      "<class 'selenium.webdriver.chrome.webdriver.WebDriver'>\n"
     ]
    }
   ],
   "source": [
    "chrome_options = webdriver.ChromeOptions()  # Chrome 브라우저 옵션 설정 객체 생성\n",
    "drive_path = 'chromedriver.exe'  # Chrome 드라이버 실행 파일 경로 지정\n",
    "myservice = Service(drive_path)  # Chrome 드라이버 서비스를 실행할 Service 객체 생성\n",
    "driver = webdriver.Chrome(service=myservice, options=chrome_options)  # Chrome 웹드라이버 객체 생성\n",
    "print(type(driver))  # 생성된 드라이버 객체의 타입 출력\n",
    "\n",
    "wait_time = 10  # 암시적 대기 시간(초) 설정\n",
    "driver.implicitly_wait(wait_time)  # 웹 요소가 로드될 때까지 최대 10초 동안 대기"
   ]
  },
  {
   "cell_type": "code",
   "execution_count": 19,
   "id": "2cb314dd-d385-4b7e-a696-5dcafd6b0308",
   "metadata": {},
   "outputs": [],
   "source": [
    "# 네이버 뉴스 이동\n",
    "starbucks_url = 'https://news.naver.com'\n",
    "driver.get(starbucks_url) #해당 페이지로 이동하시오."
   ]
  },
  {
   "cell_type": "code",
   "execution_count": 22,
   "id": "f3df5c76-e31c-430c-8c9c-6936800e7977",
   "metadata": {},
   "outputs": [
    {
     "ename": "TimeoutException",
     "evalue": "Message: \nStacktrace:\n\tGetHandleVerifier [0x00007FF72FC9FE45+26629]\n\t(No symbol) [0x00007FF72FC06010]\n\t(No symbol) [0x00007FF72FA9931A]\n\t(No symbol) [0x00007FF72FAEF8E7]\n\t(No symbol) [0x00007FF72FAEFB1C]\n\t(No symbol) [0x00007FF72FB434A7]\n\t(No symbol) [0x00007FF72FB17AEF]\n\t(No symbol) [0x00007FF72FB40169]\n\t(No symbol) [0x00007FF72FB17883]\n\t(No symbol) [0x00007FF72FAE0550]\n\t(No symbol) [0x00007FF72FAE1803]\n\tGetHandleVerifier [0x00007FF72FFF72BD+3529853]\n\tGetHandleVerifier [0x00007FF73000DA22+3621858]\n\tGetHandleVerifier [0x00007FF7300024D3+3575443]\n\tGetHandleVerifier [0x00007FF72FD6B77A+860474]\n\t(No symbol) [0x00007FF72FC1088F]\n\t(No symbol) [0x00007FF72FC0CBC4]\n\t(No symbol) [0x00007FF72FC0CD66]\n\t(No symbol) [0x00007FF72FBFC2C9]\n\tBaseThreadInitThunk [0x00007FF97CEB259D+29]\n\tRtlUserThreadStart [0x00007FF97EA6AF38+40]\n",
     "output_type": "error",
     "traceback": [
      "\u001b[31m---------------------------------------------------------------------------\u001b[39m",
      "\u001b[31mTimeoutException\u001b[39m                          Traceback (most recent call last)",
      "\u001b[36mCell\u001b[39m\u001b[36m \u001b[39m\u001b[32mIn[22]\u001b[39m\u001b[32m, line 3\u001b[39m\n\u001b[32m      1\u001b[39m \u001b[38;5;66;03m# 네이버 뉴스 '경제'클릭\u001b[39;00m\n\u001b[32m      2\u001b[39m navernews_economy_selector = \u001b[33m'\u001b[39m\u001b[33mbody > section > header > div.Nlnb._float_lnb > div > div > div > div > div > ul > li:nth-child(3) > a > span\u001b[39m\u001b[33m'\u001b[39m\n\u001b[32m----> \u001b[39m\u001b[32m3\u001b[39m \u001b[43mWebDriverWait\u001b[49m\u001b[43m(\u001b[49m\u001b[43mdriver\u001b[49m\u001b[43m,\u001b[49m\u001b[43m \u001b[49m\u001b[32;43m5\u001b[39;49m\u001b[43m)\u001b[49m\u001b[43m.\u001b[49m\u001b[43muntil\u001b[49m\u001b[43m(\u001b[49m\u001b[43mEC\u001b[49m\u001b[43m.\u001b[49m\u001b[43mpresence_of_element_located\u001b[49m\u001b[43m(\u001b[49m\u001b[43m(\u001b[49m\u001b[43mBy\u001b[49m\u001b[43m.\u001b[49m\u001b[43mCSS_SELECTOR\u001b[49m\u001b[43m,\u001b[49m\u001b[43m \u001b[49m\u001b[43mnavernews_economy_selector\u001b[49m\u001b[43m)\u001b[49m\u001b[43m)\u001b[49m\u001b[43m)\u001b[49m.click()\n\u001b[32m      4\u001b[39m \u001b[38;5;66;03m# 최대 5초 동안 navernews_economy_selector에 해당하는 요소가 HTML에 나타날 때까지 기다린다.\u001b[39;00m\n\u001b[32m      5\u001b[39m \u001b[38;5;66;03m# 요소가 나타나면 .click()을 실행하여 '서울' 링크를 클릭한다.\u001b[39;00m\n",
      "\u001b[36mFile \u001b[39m\u001b[32mC:\\Python311\\Lib\\site-packages\\selenium\\webdriver\\support\\wait.py:146\u001b[39m, in \u001b[36mWebDriverWait.until\u001b[39m\u001b[34m(self, method, message)\u001b[39m\n\u001b[32m    144\u001b[39m         \u001b[38;5;28;01mbreak\u001b[39;00m\n\u001b[32m    145\u001b[39m     time.sleep(\u001b[38;5;28mself\u001b[39m._poll)\n\u001b[32m--> \u001b[39m\u001b[32m146\u001b[39m \u001b[38;5;28;01mraise\u001b[39;00m TimeoutException(message, screen, stacktrace)\n",
      "\u001b[31mTimeoutException\u001b[39m: Message: \nStacktrace:\n\tGetHandleVerifier [0x00007FF72FC9FE45+26629]\n\t(No symbol) [0x00007FF72FC06010]\n\t(No symbol) [0x00007FF72FA9931A]\n\t(No symbol) [0x00007FF72FAEF8E7]\n\t(No symbol) [0x00007FF72FAEFB1C]\n\t(No symbol) [0x00007FF72FB434A7]\n\t(No symbol) [0x00007FF72FB17AEF]\n\t(No symbol) [0x00007FF72FB40169]\n\t(No symbol) [0x00007FF72FB17883]\n\t(No symbol) [0x00007FF72FAE0550]\n\t(No symbol) [0x00007FF72FAE1803]\n\tGetHandleVerifier [0x00007FF72FFF72BD+3529853]\n\tGetHandleVerifier [0x00007FF73000DA22+3621858]\n\tGetHandleVerifier [0x00007FF7300024D3+3575443]\n\tGetHandleVerifier [0x00007FF72FD6B77A+860474]\n\t(No symbol) [0x00007FF72FC1088F]\n\t(No symbol) [0x00007FF72FC0CBC4]\n\t(No symbol) [0x00007FF72FC0CD66]\n\t(No symbol) [0x00007FF72FBFC2C9]\n\tBaseThreadInitThunk [0x00007FF97CEB259D+29]\n\tRtlUserThreadStart [0x00007FF97EA6AF38+40]\n"
     ]
    }
   ],
   "source": [
    "# 네이버 뉴스 '경제'클릭\n",
    "navernews_economy_selector = 'body > section > header > div.Nlnb._float_lnb > div > div > div > div > div > ul > li:nth-child(3) > a > span'\n",
    "WebDriverWait(driver, 5).until(EC.presence_of_element_located((By.CSS_SELECTOR, navernews_economy_selector))).click()\n",
    "# 최대 5초 동안 navernews_economy_selector에 해당하는 요소가 HTML에 나타날 때까지 기다린다.\n",
    "# 요소가 나타나면 .click()을 실행하여 '서울' 링크를 클릭한다."
   ]
  },
  {
   "cell_type": "code",
   "execution_count": null,
   "id": "e691b9f3-63c6-4d8d-8b4e-738036cd2770",
   "metadata": {},
   "outputs": [],
   "source": [
    "# 스타벅스 '서울'-'전체' 링크 클릭\n",
    "starbucks_seoul_all = '#_SECTION_HEADLINE_LIST_t8xqy > li:nth-child(1) > div > div > div.sa_text > a > strong'\n",
    "WebDriverWait(driver, 5).until(EC.presence_of_element_located((By.CSS_SELECTOR, starbucks_seoul_all))).click()"
   ]
  },
  {
   "cell_type": "code",
   "execution_count": null,
   "id": "a2ec8ec8-9eed-446d-ad96-9f6711bf7c8e",
   "metadata": {},
   "outputs": [],
   "source": [
    "# 스타벅스 HTML 코드를 파싱하여 html 파일에 기록합니다.\n",
    "html = driver.page_source\n",
    "filename = 'news.html'\n",
    "htmlFile = open(filename, mode='wt', encoding='UTF-8')\n",
    "print(html, file=htmlFile)\n",
    "print(filename + '파일 생성됨')\n",
    "htmlFile.close()"
   ]
  },
  {
   "cell_type": "code",
   "execution_count": null,
   "id": "81393e55-2856-4e6d-9074-8a490aac0f17",
   "metadata": {},
   "outputs": [],
   "source": [
    "https://openapi.naver.com/v1/search/news.json"
   ]
  },
  {
   "cell_type": "code",
   "execution_count": null,
   "id": "06bba73f-ffd6-4a09-b511-4b9637abd9a2",
   "metadata": {},
   "outputs": [],
   "source": []
  },
  {
   "cell_type": "code",
   "execution_count": null,
   "id": "5cd7b4b0-6219-4780-90b8-2a10bd8a1173",
   "metadata": {},
   "outputs": [],
   "source": []
  },
  {
   "cell_type": "code",
   "execution_count": null,
   "id": "fe90b9f4-5d06-4d69-8369-8bf5243ef885",
   "metadata": {},
   "outputs": [],
   "source": []
  },
  {
   "cell_type": "code",
   "execution_count": null,
   "id": "9ac27df3-b0ca-4c18-b841-303cf8db755f",
   "metadata": {},
   "outputs": [],
   "source": []
  },
  {
   "cell_type": "code",
   "execution_count": null,
   "id": "76e035fd-3a1e-41ef-b8fd-d7e6919610c3",
   "metadata": {},
   "outputs": [],
   "source": []
  },
  {
   "cell_type": "code",
   "execution_count": null,
   "id": "0a0b2faf-7891-4fed-9e44-f7daaf515533",
   "metadata": {},
   "outputs": [],
   "source": []
  },
  {
   "cell_type": "code",
   "execution_count": null,
   "id": "ee70a829-8ff0-48ec-8993-2a53b8d98689",
   "metadata": {},
   "outputs": [],
   "source": []
  },
  {
   "cell_type": "code",
   "execution_count": null,
   "id": "fd8e5a3c-dc7c-458d-94b0-5af6aacc3a49",
   "metadata": {},
   "outputs": [],
   "source": []
  },
  {
   "cell_type": "code",
   "execution_count": null,
   "id": "7a034823-7f38-4602-bcb5-a21ca996d890",
   "metadata": {},
   "outputs": [],
   "source": []
  },
  {
   "cell_type": "code",
   "execution_count": null,
   "id": "534ed921-80b0-4bc3-92f5-aa96514327f5",
   "metadata": {},
   "outputs": [],
   "source": []
  },
  {
   "cell_type": "code",
   "execution_count": null,
   "id": "6d68554b-b583-4d0a-88ed-7360aff7e7e2",
   "metadata": {},
   "outputs": [],
   "source": []
  },
  {
   "cell_type": "code",
   "execution_count": null,
   "id": "7a85a5fa-c7ff-4266-88a8-ab0bf366943b",
   "metadata": {},
   "outputs": [],
   "source": []
  },
  {
   "cell_type": "code",
   "execution_count": null,
   "id": "00703f20-e5ec-45ee-ac1e-556d02c1d98d",
   "metadata": {},
   "outputs": [],
   "source": []
  },
  {
   "cell_type": "code",
   "execution_count": null,
   "id": "182f41e2-eb60-4d42-b519-1b2d3f38e765",
   "metadata": {},
   "outputs": [],
   "source": []
  },
  {
   "cell_type": "code",
   "execution_count": null,
   "id": "3332effc-bc26-4741-9cdc-852172549585",
   "metadata": {},
   "outputs": [],
   "source": []
  }
 ],
 "metadata": {
  "kernelspec": {
   "display_name": "Python 3 (ipykernel)",
   "language": "python",
   "name": "python3"
  },
  "language_info": {
   "codemirror_mode": {
    "name": "ipython",
    "version": 3
   },
   "file_extension": ".py",
   "mimetype": "text/x-python",
   "name": "python",
   "nbconvert_exporter": "python",
   "pygments_lexer": "ipython3",
   "version": "3.11.0"
  }
 },
 "nbformat": 4,
 "nbformat_minor": 5
}
