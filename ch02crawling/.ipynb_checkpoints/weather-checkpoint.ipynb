{
 "cells": [
  {
   "cell_type": "code",
   "execution_count": 26,
   "id": "9e719382-3802-4e19-a2d1-6b33ce035bb0",
   "metadata": {},
   "outputs": [],
   "source": [
    "import numpy as np  # 수치 연산 및 배열 처리를 위한 라이브러리\n",
    "import pandas as pd  # 데이터 분석 및 DataFrame 처리를 위한 라이브러리\n",
    "import requests  # HTTP 요청을 보내고 API 데이터를 가져오는 라이브러리\n",
    "import folium  # 지도 시각화를 위한 라이브러리\n",
    "import time\n",
    "\n",
    "from tqdm.notebook import tqdm  # 코드 실행 중 진행 상태를 표시하는 진행 바\n",
    "from bs4 import BeautifulSoup  # HTML/XML 데이터를 파싱하여 웹 크롤링을 수행하는 라이브러리\n",
    "\n",
    "from selenium import webdriver  # 웹 브라우저 자동화를 위한 Selenium WebDriver 모듈\n",
    "from selenium.webdriver.chrome.service import Service  # Chrome WebDriver 실행을 위한 서비스 클래스\n",
    "from selenium.webdriver.common.by import By  # 웹 요소를 찾을 때 사용 (id, class, xpath 등)\n",
    "from selenium.webdriver.support.ui import WebDriverWait  # 특정 요소가 나타날 때까지 대기하는 기능 제공\n",
    "from selenium.webdriver.support import expected_conditions as EC  # 요소의 상태(로딩 완료, 클릭 가능 등)를 정의하는 조건 클래스"
   ]
  },
  {
   "cell_type": "code",
   "execution_count": 27,
   "id": "165f515f-26f6-49fd-9096-96931dce5a05",
   "metadata": {},
   "outputs": [
    {
     "name": "stdout",
     "output_type": "stream",
     "text": [
      "<class 'selenium.webdriver.chrome.webdriver.WebDriver'>\n"
     ]
    }
   ],
   "source": [
    "chrome_options = webdriver.ChromeOptions()  # Chrome 브라우저 옵션 설정 객체 생성\n",
    "drive_path = 'chromedriver.exe'  # Chrome 드라이버 실행 파일 경로 지정\n",
    "myservice = Service(drive_path)  # Chrome 드라이버 서비스를 실행할 Service 객체 생성\n",
    "driver = webdriver.Chrome(service=myservice, options=chrome_options)  # Chrome 웹드라이버 객체 생성\n",
    "print(type(driver))  # 생성된 드라이버 객체의 타입 출력\n",
    "\n",
    "wait_time = 10  # 암시적 대기 시간(초) 설정\n",
    "driver.implicitly_wait(wait_time)  # 웹 요소가 로드될 때까지 최대 10초 동안 대기"
   ]
  },
  {
   "cell_type": "code",
   "execution_count": 28,
   "id": "4b63ddbb-cd20-4d43-b3d1-ce6572325715",
   "metadata": {},
   "outputs": [],
   "source": [
    "driver.maximize_window()  # 브라우저 창을 최대화"
   ]
  },
  {
   "cell_type": "code",
   "execution_count": 55,
   "id": "4a7da15e-afb8-4304-a134-95672b63c40e",
   "metadata": {},
   "outputs": [
    {
     "name": "stdout",
     "output_type": "stream",
     "text": [
      "\"서울 날씨 정보.html\" 파일 생성됨\n",
      "\"부산 날씨 정보.html\" 파일 생성됨\n",
      "\"강릉 날씨 정보.html\" 파일 생성됨\n"
     ]
    }
   ],
   "source": [
    "# 기상청 홈페이지 찾기\n",
    "weather_url = 'https://search.naver.com/search.naver?where=nexearch&sm=top_hty&fbm=0&ie=utf8&query=%EC%84%9C%EC%9A%B8+%EB%82%A0%EC%94%A8'\n",
    "driver.get(weather_url) #해당 페이지로 이동하시오.\n",
    "\n",
    "naver_input_selector = '#nx_query'\n",
    "naver_search_button_css = '#nx_search_form > fieldset > button > i'\n",
    "regions = ['서울','부산','강릉']\n",
    "for region in regions:\n",
    "    WebDriverWait(driver, 20).until(EC.presence_of_element_located((By.CSS_SELECTOR, naver_input_selector))).clear()\n",
    "    WebDriverWait(driver, 20).until(EC.presence_of_element_located((By.CSS_SELECTOR, naver_input_selector))).click()\n",
    "    WebDriverWait(driver, 20).until(EC.presence_of_element_located((By.CSS_SELECTOR, naver_input_selector))).send_keys(f'{region} 날씨')\n",
    "    WebDriverWait(driver, 20).until(EC.presence_of_element_located((By.CSS_SELECTOR, naver_search_button_css))).click()\n",
    "    \n",
    "    # 주간 날씨 HTML 코드를 파싱하여 html 파일에 기록합니다.\n",
    "    html = driver.page_source\n",
    "    htmlFile = open(f'{region} 날씨 정보.html', mode='wt', encoding='UTF-8')\n",
    "    print(html, file=htmlFile)\n",
    "    print(f'\"{region} 날씨 정보.html\"' + ' 파일 생성됨')\n",
    "    htmlFile.close()\n",
    "\n",
    "    \n",
    "    time.sleep(3) "
   ]
  },
  {
   "cell_type": "code",
   "execution_count": 56,
   "id": "b4929573-12d3-45b6-a3bc-5120e95d2481",
   "metadata": {},
   "outputs": [
    {
     "name": "stdout",
     "output_type": "stream",
     "text": [
      "서울 날씨 정보.html\n",
      "부산 날씨 정보.html\n",
      "강릉 날씨 정보.html\n"
     ]
    },
    {
     "name": "stderr",
     "output_type": "stream",
     "text": [
      "C:\\Users\\PIN\\AppData\\Local\\Temp\\ipykernel_26124\\866250745.py:2: MarkupResemblesLocatorWarning: The input passed in on this line looks more like a filename than HTML or XML.\n",
      "\n",
      "If you meant to use Beautiful Soup to parse the contents of a file on disk, then something has gone wrong. You should open the file first, using code like this:\n",
      "\n",
      "    filehandle = open(your filename)\n",
      "\n",
      "You can then feed the open filehandle into Beautiful Soup instead of using the filename.\n",
      "\n",
      "However, if you want to parse some data that happens to look like a filename, then nothing has gone wrong: you are using Beautiful Soup correctly, and this warning is spurious and can be filtered. To make this warning go away, run this code before calling the BeautifulSoup constructor:\n",
      "\n",
      "    from bs4 import MarkupResemblesLocatorWarning\n",
      "    import warnings\n",
      "\n",
      "    warnings.filterwarnings(\"ignore\", category=MarkupResemblesLocatorWarning)\n",
      "    \n",
      "  soup = BeautifulSoup(f'{region} 날씨 정보.html', 'html.parser')\n"
     ]
    }
   ],
   "source": [
    "for region in regions:\n",
    "    soup = BeautifulSoup(f'{region} 날씨 정보.html', 'html.parser')\n",
    "    print(soup)"
   ]
  },
  {
   "cell_type": "code",
   "execution_count": 57,
   "id": "211b12bd-0e6a-4b82-b273-797e9eece754",
   "metadata": {},
   "outputs": [
    {
     "ename": "AttributeError",
     "evalue": "'NoneType' object has no attribute 'find_all'",
     "output_type": "error",
     "traceback": [
      "\u001b[31m---------------------------------------------------------------------------\u001b[39m",
      "\u001b[31mAttributeError\u001b[39m                            Traceback (most recent call last)",
      "\u001b[36mCell\u001b[39m\u001b[36m \u001b[39m\u001b[32mIn[57]\u001b[39m\u001b[32m, line 6\u001b[39m\n\u001b[32m      4\u001b[39m soup = BeautifulSoup(\u001b[33mf\u001b[39m\u001b[33m'\u001b[39m\u001b[38;5;132;01m{\u001b[39;00mregion\u001b[38;5;132;01m}\u001b[39;00m\u001b[33m 날씨 정보\u001b[39m\u001b[33m'\u001b[39m, \u001b[33m'\u001b[39m\u001b[33mhtml.parser\u001b[39m\u001b[33m'\u001b[39m)\n\u001b[32m      5\u001b[39m div_tag = soup.find(attrs={\u001b[33m'\u001b[39m\u001b[33mclass\u001b[39m\u001b[33m'\u001b[39m: \u001b[33m'\u001b[39m\u001b[33mweekly_forecast_area _toggle_panel\u001b[39m\u001b[33m'\u001b[39m}) \u001b[38;5;66;03m#한 주의 날씨 정보\u001b[39;00m\n\u001b[32m----> \u001b[39m\u001b[32m6\u001b[39m one_week_weather_list = \u001b[43mdiv_tag\u001b[49m\u001b[43m.\u001b[49m\u001b[43mfind_all\u001b[49m(\u001b[33m'\u001b[39m\u001b[33mli\u001b[39m\u001b[33m'\u001b[39m) \u001b[38;5;66;03m#날 별 날씨 정보\u001b[39;00m\n\u001b[32m     10\u001b[39m \u001b[38;5;28;01mfor\u001b[39;00m today_weather \u001b[38;5;129;01min\u001b[39;00m one_week_weather_list:\n\u001b[32m     12\u001b[39m     date = soup.find(\u001b[33m\"\u001b[39m\u001b[33mspan\u001b[39m\u001b[33m\"\u001b[39m, class_=\u001b[33m\"\u001b[39m\u001b[33mdate\u001b[39m\u001b[33m\"\u001b[39m).text \u001b[38;5;66;03m#날짜 정보 (예: 3.11.)\u001b[39;00m\n",
      "\u001b[31mAttributeError\u001b[39m: 'NoneType' object has no attribute 'find_all'"
     ]
    }
   ],
   "source": [
    "\n",
    "week_weather_list = []\n",
    "for region in regions:\n",
    "    one_week_weather_list = []\n",
    "    soup = BeautifulSoup(f'{region} 날씨 정보', 'html.parser')\n",
    "    div_tag = soup.find(attrs={'class': 'weekly_forecast_area _toggle_panel'}) #한 주의 날씨 정보\n",
    "    one_week_weather_list = div_tag.find_all('li') #날 별 날씨 정보\n",
    "    \n",
    "    \n",
    "    \n",
    "    for today_weather in one_week_weather_list:\n",
    "    \n",
    "        date = soup.find(\"span\", class_=\"date\").text #날짜 정보 (예: 3.11.)\n",
    "        day_of_the_week = soup.find(\"strong\", class_=\"day\").text #요일 정보 (예: 오늘, 내일, 월)\n",
    "        am_weather = soup.select(\".weather_inner:nth-of-type(1) .blind\")[0].text #오전 날씨 (맑음, 구름많음 등)\n",
    "        pm_weather = soup.select(\".weather_inner:nth-of-type(2) .blind\")[0].text #오후 날씨\n",
    "        am_chance_of_precipitation = soup.select(\".weather_inner:nth-of-type(1) .rainfall\")[0].text #오전 강수확률 (%)\n",
    "        pm_chance_of_precipitation = soup.select(\".weather_inner:nth-of-type(2) .rainfall\")[0].text #오후 강수확률 (%)\n",
    "        temperature = soup.find(\"span\", class_=\"lowest\").text #최저 기온\n",
    "        highest_temperature = soup.find(\"span\", class_=\"highest\").text #최고 기온\n",
    "        \n",
    "        week_weather_list.append([date,day_of_the_week,am_weather,pm_weather,am_chance_of_precipitation,pm_chance_of_precipitation,temperature,highest_temperature])\n",
    "    #end for\n",
    "#end for\n",
    "print(week_weather_list)\n",
    "\n"
   ]
  },
  {
   "cell_type": "code",
   "execution_count": null,
   "id": "73809a32-931b-41b6-b36b-0346fd487e21",
   "metadata": {},
   "outputs": [],
   "source": [
    "week_weather_frame = pd.DataFrame(week_weather_list)\n",
    "week_weather_frame.columns = ['날짜 정보', '요일 정보', '오전 날씨', '오후 날씨', '오전 강수확률 (%)', '오후 강수확률 (%)']\n",
    "week_weather_frame.head()"
   ]
  },
  {
   "cell_type": "code",
   "execution_count": null,
   "id": "faaa31a3-3ef5-4c11-b455-6f2c53a43362",
   "metadata": {},
   "outputs": [],
   "source": []
  },
  {
   "cell_type": "code",
   "execution_count": null,
   "id": "7fe1d089-98f8-487f-b107-4ac1606c7dd6",
   "metadata": {},
   "outputs": [],
   "source": []
  },
  {
   "cell_type": "code",
   "execution_count": null,
   "id": "33f6573f-0b6f-4a27-b97e-fa3216f436ef",
   "metadata": {},
   "outputs": [],
   "source": []
  },
  {
   "cell_type": "code",
   "execution_count": null,
   "id": "31d5cb35-7011-4a38-8ecd-c4fcd893afcb",
   "metadata": {},
   "outputs": [],
   "source": []
  },
  {
   "cell_type": "code",
   "execution_count": null,
   "id": "2dfbf75a-d05a-47ea-a8e0-9114a1ce1ae4",
   "metadata": {},
   "outputs": [],
   "source": []
  },
  {
   "cell_type": "code",
   "execution_count": null,
   "id": "aadf311f-b39f-4ecf-9f3c-d90156421e75",
   "metadata": {},
   "outputs": [],
   "source": []
  },
  {
   "cell_type": "code",
   "execution_count": null,
   "id": "4a25176e-5429-49d5-bac8-11bca95628e6",
   "metadata": {},
   "outputs": [],
   "source": []
  },
  {
   "cell_type": "code",
   "execution_count": null,
   "id": "7d03661f-d7d7-4b02-a5d7-ae4cf853e2a6",
   "metadata": {},
   "outputs": [],
   "source": []
  },
  {
   "cell_type": "code",
   "execution_count": null,
   "id": "41f77d65-fb75-4ff8-ba3f-9aeb25b5d171",
   "metadata": {},
   "outputs": [],
   "source": []
  },
  {
   "cell_type": "code",
   "execution_count": null,
   "id": "db240642-f762-491d-aaf2-04f2ab3a1dcc",
   "metadata": {},
   "outputs": [],
   "source": []
  },
  {
   "cell_type": "code",
   "execution_count": null,
   "id": "84eea651-fb3a-471d-88c4-6cd500782539",
   "metadata": {},
   "outputs": [],
   "source": []
  },
  {
   "cell_type": "code",
   "execution_count": null,
   "id": "a21cf51b-ae0a-439b-a219-710beb7b5e5d",
   "metadata": {},
   "outputs": [],
   "source": []
  },
  {
   "cell_type": "code",
   "execution_count": null,
   "id": "38ebafd5-81f0-4973-9381-02390124aca6",
   "metadata": {},
   "outputs": [],
   "source": []
  },
  {
   "cell_type": "code",
   "execution_count": null,
   "id": "e9ddde82-bb77-421f-9516-71f3d9c62ca1",
   "metadata": {},
   "outputs": [],
   "source": []
  },
  {
   "cell_type": "code",
   "execution_count": null,
   "id": "95f0bad7-d2ec-4832-a679-19244d8384df",
   "metadata": {},
   "outputs": [],
   "source": []
  },
  {
   "cell_type": "code",
   "execution_count": null,
   "id": "44c1bb71-71aa-48d0-b074-1287f609f593",
   "metadata": {},
   "outputs": [],
   "source": []
  },
  {
   "cell_type": "code",
   "execution_count": null,
   "id": "37a8f317-d2be-4779-a593-d7c388a33285",
   "metadata": {},
   "outputs": [],
   "source": []
  },
  {
   "cell_type": "code",
   "execution_count": null,
   "id": "dae1b46a-18ea-43b8-8234-4dcaea5587c5",
   "metadata": {},
   "outputs": [],
   "source": []
  },
  {
   "cell_type": "code",
   "execution_count": null,
   "id": "55020bfb-e310-4221-8260-4b10c92a6505",
   "metadata": {},
   "outputs": [],
   "source": []
  },
  {
   "cell_type": "code",
   "execution_count": null,
   "id": "07c49b3f-4a03-4ab6-8d17-dd0cf614465d",
   "metadata": {},
   "outputs": [],
   "source": []
  },
  {
   "cell_type": "code",
   "execution_count": null,
   "id": "b5d09afa-ae6a-4a1c-bf48-306b3b047626",
   "metadata": {},
   "outputs": [],
   "source": []
  },
  {
   "cell_type": "code",
   "execution_count": null,
   "id": "ebc8063a-f498-4b8a-ba39-bbb3f755e287",
   "metadata": {},
   "outputs": [],
   "source": []
  },
  {
   "cell_type": "code",
   "execution_count": null,
   "id": "b09fca98-0b04-4917-bce6-f44343848e0a",
   "metadata": {},
   "outputs": [],
   "source": []
  },
  {
   "cell_type": "code",
   "execution_count": null,
   "id": "3d2191a3-34f1-40cf-9971-fd14a3d477ea",
   "metadata": {},
   "outputs": [],
   "source": []
  },
  {
   "cell_type": "code",
   "execution_count": null,
   "id": "4b67f6be-10ea-4c72-93f5-1fed9ee303e0",
   "metadata": {},
   "outputs": [],
   "source": []
  },
  {
   "cell_type": "code",
   "execution_count": null,
   "id": "fbc02eb1-99b5-4a3b-be94-a8a801efb264",
   "metadata": {},
   "outputs": [],
   "source": []
  },
  {
   "cell_type": "code",
   "execution_count": null,
   "id": "e6ffab2c-6848-42d2-96ee-5920704511fb",
   "metadata": {},
   "outputs": [],
   "source": []
  },
  {
   "cell_type": "code",
   "execution_count": null,
   "id": "19ac6a7a-d705-40df-b73d-4734f9b792be",
   "metadata": {},
   "outputs": [],
   "source": []
  },
  {
   "cell_type": "code",
   "execution_count": null,
   "id": "ea1cf6aa-a197-4a7e-bf82-1ada12820f84",
   "metadata": {},
   "outputs": [],
   "source": []
  },
  {
   "cell_type": "code",
   "execution_count": null,
   "id": "7cbd7678-afd7-4617-998b-09cb43dcdd3e",
   "metadata": {},
   "outputs": [],
   "source": []
  },
  {
   "cell_type": "code",
   "execution_count": null,
   "id": "b0987641-b0c2-4102-9bc7-b4d9c7858952",
   "metadata": {},
   "outputs": [],
   "source": []
  },
  {
   "cell_type": "code",
   "execution_count": null,
   "id": "aa8e4689-d3ae-4f62-8b57-b1eaee9eeeff",
   "metadata": {},
   "outputs": [],
   "source": []
  }
 ],
 "metadata": {
  "kernelspec": {
   "display_name": "Python 3 (ipykernel)",
   "language": "python",
   "name": "python3"
  },
  "language_info": {
   "codemirror_mode": {
    "name": "ipython",
    "version": 3
   },
   "file_extension": ".py",
   "mimetype": "text/x-python",
   "name": "python",
   "nbconvert_exporter": "python",
   "pygments_lexer": "ipython3",
   "version": "3.12.6"
  }
 },
 "nbformat": 4,
 "nbformat_minor": 5
}
