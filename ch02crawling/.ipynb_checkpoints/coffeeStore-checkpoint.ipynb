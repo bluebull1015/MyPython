{
 "cells": [
  {
   "cell_type": "code",
   "execution_count": 4,
   "id": "33ba7a2e-1d2f-4b5e-9237-3c91d5895d44",
   "metadata": {},
   "outputs": [],
   "source": [
    "import numpy as np\n",
    "import pandas as pd \n",
    "import requests\n",
    "import folium\n",
    "\n",
    "from tqdm.notebook import tqdm\n",
    "from bs4 import BeautifulSoup\n",
    "\n",
    "from selenium import webdriver\n",
    "from selenium.webdriver.chrome.service import Service\n",
    "from selenium.webdriver.common.by import By\n",
    "from selenium.webdriver.support.ui import WebDriverWait\n",
    "from selenium.webdriver.support import expected_conditions as EC"
   ]
  },
  {
   "cell_type": "code",
   "execution_count": 5,
   "id": "9a97388d-62ff-461c-a31c-e17826dc9d08",
   "metadata": {},
   "outputs": [
    {
     "name": "stdout",
     "output_type": "stream",
     "text": [
      "<class 'selenium.webdriver.chrome.webdriver.WebDriver'>\n"
     ]
    }
   ],
   "source": [
    "chrome_options = webdriver.ChromeOptions() \n",
    "drive_path = 'chromedriver.exe'\n",
    "myservice = Service(drive_path)\n",
    "driver = webdriver.Chrome(service=myservice, options=chrome_options) # 드라이버 객체\n",
    "print(type(driver))\n",
    "\n",
    "wait_time = 10\n",
    "driver.implicitly_wait(wait_time)"
   ]
  },
  {
   "cell_type": "code",
   "execution_count": 4,
   "id": "f06a8206-58ad-49c8-9f8f-730641f8d5e4",
   "metadata": {},
   "outputs": [],
   "source": [
    "driver.maximize_window()"
   ]
  },
  {
   "cell_type": "code",
   "execution_count": 6,
   "id": "69119463-4b9c-4774-84ef-c4736a12e820",
   "metadata": {},
   "outputs": [],
   "source": [
    "# 스타벅스) 매장 찾기\n",
    "starbucks_url = 'https://www.starbucks.co.kr/store/store_map.do?disp=locale'\n",
    "driver.get(starbucks_url) # 해당 페이지로 이동하시오."
   ]
  },
  {
   "cell_type": "code",
   "execution_count": 7,
   "id": "0b3b623b-c762-42aa-88c6-77d18b704a7e",
   "metadata": {},
   "outputs": [],
   "source": [
    "# 스타벅스 '서울' 링크 클릭\n",
    "starbucks_seoul_selector = '#container > div > form > fieldset > div > section > article.find_store_cont > article > article:nth-child(4) > div.loca_step1 > div.loca_step1_cont > ul > li:nth-child(1) > a'\n",
    "WebDriverWait(driver, 5).until(EC.presence_of_element_located((By.CSS_SELECTOR, starbucks_seoul_selector))).click()"
   ]
  },
  {
   "cell_type": "code",
   "execution_count": 8,
   "id": "95092da8-576e-49a4-9f69-842bc9766af7",
   "metadata": {},
   "outputs": [],
   "source": [
    "# 스타벅스 '서울'-'전체' 링크 클릭\n",
    "starbucks_seoul_all = '#mCSB_2_container > ul > li:nth-child(1) > a'\n",
    "WebDriverWait(driver, 5).until(EC.presence_of_element_located((By.CSS_SELECTOR, starbucks_seoul_all))).click()"
   ]
  },
  {
   "cell_type": "code",
   "execution_count": 8,
   "id": "12243b46-98cb-47f9-8d78-531a35fb1520",
   "metadata": {},
   "outputs": [
    {
     "name": "stdout",
     "output_type": "stream",
     "text": [
      "starbucks.html 파일 생성됨\n"
     ]
    }
   ],
   "source": [
    "# 스타벅스 HTML 코드를 파싱하여 html 파일에 기록합니다.\n",
    "html = driver.page_source\n",
    "filename = 'starbucks.html'\n",
    "htmlFile = open(filename, mode='wt', encoding='UTF-8')\n",
    "print(html, file=htmlFile)\n",
    "htmlFile.close()\n",
    "print(filename + ' 파일 생성됨')"
   ]
  },
  {
   "cell_type": "code",
   "execution_count": 9,
   "id": "3a6a5227-d72b-40fc-bc38-15ad5904a083",
   "metadata": {},
   "outputs": [
    {
     "name": "stdout",
     "output_type": "stream",
     "text": [
      "<class 'bs4.BeautifulSoup'>\n"
     ]
    }
   ],
   "source": [
    "# 파싱된 결과를 BeautifulSoup 객체로 생성합니다.\n",
    "soup = BeautifulSoup(html, 'html.parser')\n",
    "print(type(soup))"
   ]
  },
  {
   "cell_type": "code",
   "execution_count": 10,
   "id": "2aae5a6f-f89e-4cfb-81f4-61d1606076c6",
   "metadata": {},
   "outputs": [
    {
     "name": "stdout",
     "output_type": "stream",
     "text": [
      "모든 매장 개수 : 633\n"
     ]
    }
   ],
   "source": [
    "container = soup.find('div', id='mCSB_3_container')\n",
    "storeAll = container.find_all('li')\n",
    "print(f'모든 매장 개수 : {len(storeAll)}')"
   ]
  },
  {
   "cell_type": "code",
   "execution_count": 11,
   "id": "88eb0724-dbad-4a0a-961f-13ed9f02b0c3",
   "metadata": {},
   "outputs": [
    {
     "name": "stdout",
     "output_type": "stream",
     "text": [
      "633\n"
     ]
    }
   ],
   "source": [
    "starbucksData = []  # 스타벅스 매장 목록을 저장할 리스트\n",
    "\n",
    "for store in storeAll :\n",
    "    brand = '스타벅스'\n",
    "    name = store.find('strong').text.strip()\n",
    "    address = store.find('p').text.strip().replace('1522-3232', '')\n",
    "    imsi = address.split(' ')\n",
    "    # sido = imsi[0]\n",
    "    gungu = imsi[1]\n",
    "    latitude = store['data-lat']\n",
    "    longitude = store['data-long']\n",
    "    \n",
    "    starbucksData.append([brand, name, address, gungu, latitude, longitude])\n",
    "# end for    \n",
    "\n",
    "print(len(starbucksData))\n",
    "# print(starbucksData)"
   ]
  },
  {
   "cell_type": "code",
   "execution_count": 12,
   "id": "25d77d5e-6262-41c7-805a-787b30fd5e2e",
   "metadata": {},
   "outputs": [
    {
     "data": {
      "text/html": [
       "<div>\n",
       "<style scoped>\n",
       "    .dataframe tbody tr th:only-of-type {\n",
       "        vertical-align: middle;\n",
       "    }\n",
       "\n",
       "    .dataframe tbody tr th {\n",
       "        vertical-align: top;\n",
       "    }\n",
       "\n",
       "    .dataframe thead th {\n",
       "        text-align: right;\n",
       "    }\n",
       "</style>\n",
       "<table border=\"1\" class=\"dataframe\">\n",
       "  <thead>\n",
       "    <tr style=\"text-align: right;\">\n",
       "      <th></th>\n",
       "      <th>브랜드</th>\n",
       "      <th>상호</th>\n",
       "      <th>주소</th>\n",
       "      <th>군구</th>\n",
       "      <th>위도</th>\n",
       "      <th>경도</th>\n",
       "    </tr>\n",
       "  </thead>\n",
       "  <tbody>\n",
       "    <tr>\n",
       "      <th>0</th>\n",
       "      <td>스타벅스</td>\n",
       "      <td>역삼아레나빌딩</td>\n",
       "      <td>서울특별시 강남구 언주로 425 (역삼동)</td>\n",
       "      <td>강남구</td>\n",
       "      <td>37.501087</td>\n",
       "      <td>127.043069</td>\n",
       "    </tr>\n",
       "    <tr>\n",
       "      <th>1</th>\n",
       "      <td>스타벅스</td>\n",
       "      <td>논현역사거리</td>\n",
       "      <td>서울특별시 강남구 강남대로 538 (논현동)</td>\n",
       "      <td>강남구</td>\n",
       "      <td>37.510178</td>\n",
       "      <td>127.022223</td>\n",
       "    </tr>\n",
       "    <tr>\n",
       "      <th>2</th>\n",
       "      <td>스타벅스</td>\n",
       "      <td>신사역성일빌딩</td>\n",
       "      <td>서울특별시 강남구 강남대로 584 (논현동)</td>\n",
       "      <td>강남구</td>\n",
       "      <td>37.5139309</td>\n",
       "      <td>127.0206057</td>\n",
       "    </tr>\n",
       "    <tr>\n",
       "      <th>3</th>\n",
       "      <td>스타벅스</td>\n",
       "      <td>국기원사거리</td>\n",
       "      <td>서울특별시 강남구 테헤란로 125 (역삼동)</td>\n",
       "      <td>강남구</td>\n",
       "      <td>37.499517</td>\n",
       "      <td>127.031495</td>\n",
       "    </tr>\n",
       "    <tr>\n",
       "      <th>4</th>\n",
       "      <td>스타벅스</td>\n",
       "      <td>대치재경빌딩</td>\n",
       "      <td>서울특별시 강남구 남부순환로 2947 (대치동)</td>\n",
       "      <td>강남구</td>\n",
       "      <td>37.494668</td>\n",
       "      <td>127.062583</td>\n",
       "    </tr>\n",
       "  </tbody>\n",
       "</table>\n",
       "</div>"
      ],
      "text/plain": [
       "    브랜드       상호                          주소   군구          위도           경도\n",
       "0  스타벅스  역삼아레나빌딩     서울특별시 강남구 언주로 425 (역삼동)  강남구   37.501087   127.043069\n",
       "1  스타벅스   논현역사거리    서울특별시 강남구 강남대로 538 (논현동)  강남구   37.510178   127.022223\n",
       "2  스타벅스  신사역성일빌딩    서울특별시 강남구 강남대로 584 (논현동)  강남구  37.5139309  127.0206057\n",
       "3  스타벅스   국기원사거리    서울특별시 강남구 테헤란로 125 (역삼동)  강남구   37.499517   127.031495\n",
       "4  스타벅스   대치재경빌딩  서울특별시 강남구 남부순환로 2947 (대치동)  강남구   37.494668   127.062583"
      ]
     },
     "execution_count": 12,
     "metadata": {},
     "output_type": "execute_result"
    }
   ],
   "source": [
    "sbDataFrame = pd.DataFrame(starbucksData)\n",
    "sbDataFrame.columns = ['브랜드', '상호', '주소', '군구', '위도', '경도']\n",
    "sbDataFrame.head()"
   ]
  },
  {
   "cell_type": "code",
   "execution_count": 13,
   "id": "9c0af7bc-d217-40b7-b0f3-30ad108d003a",
   "metadata": {},
   "outputs": [
    {
     "name": "stdout",
     "output_type": "stream",
     "text": [
      "위도 누락 데이터 개수 : 0\n",
      "경도 누락 데이터 개수 : 0\n"
     ]
    }
   ],
   "source": [
    "print('위도 누락 데이터 개수 : %d' % sbDataFrame['위도'].isnull().sum())\n",
    "print('경도 누락 데이터 개수 : %d' % sbDataFrame['경도'].isnull().sum())"
   ]
  },
  {
   "cell_type": "code",
   "execution_count": 14,
   "id": "428d2c3a-6046-4b63-98b0-77163f0e85ce",
   "metadata": {},
   "outputs": [
    {
     "name": "stdout",
     "output_type": "stream",
     "text": [
      "starbucksFile.csv 파일이 저장되었습니다.\n"
     ]
    }
   ],
   "source": [
    "filename = 'starbucksFile.csv'\n",
    "sbDataFrame.to_csv(filename, encoding='UTF-8', index=False)\n",
    "print(f'{filename} 파일이 저장되었습니다.')"
   ]
  },
  {
   "cell_type": "code",
   "execution_count": 15,
   "id": "d21c9539-6985-4b5e-bc3b-a3fdf2ee6e16",
   "metadata": {},
   "outputs": [
    {
     "name": "stdout",
     "output_type": "stream",
     "text": [
      "서울시 구 목록 개수 : 25\n",
      "['강남구', '강북구', '강서구', '관악구', '광진구', '금천구', '노원구', '도봉구', '동작구', '마포구', '서대문구', '서초구', '성북구', '송파구', '양천구', '영등포구', '은평구', '종로구', '중구', '강동구', '구로구', '동대문구', '성동구', '용산구', '중랑구']\n"
     ]
    }
   ],
   "source": [
    "guList = list(sbDataFrame['군구'].unique())\n",
    "print('서울시 구 목록 개수 : %d' % len(guList))\n",
    "print(guList)"
   ]
  },
  {
   "cell_type": "code",
   "execution_count": null,
   "id": "e2092a14-902c-4ec7-ae9a-1a27587e516a",
   "metadata": {},
   "outputs": [],
   "source": []
  },
  {
   "cell_type": "code",
   "execution_count": 16,
   "id": "51cec0f6-e483-4d8f-ae52-263e4f1d44f0",
   "metadata": {},
   "outputs": [],
   "source": [
    "# 이디야 커피\n",
    "ediya_url = 'https://www.ediya.com/contents/find_store.html'\n",
    "driver.get(ediya_url)"
   ]
  },
  {
   "cell_type": "code",
   "execution_count": 17,
   "id": "c03d8711-57c3-4620-96e1-47f07e47acff",
   "metadata": {},
   "outputs": [],
   "source": [
    "# 이디야에서 '주소' 클릭\n",
    "ediya_address_selector = '#contentWrap > div.contents > div > div.store_search_pop > ul > li:nth-child(2) > a'\n",
    "WebDriverWait(driver, 5).until(EC.presence_of_element_located((By.CSS_SELECTOR, ediya_address_selector))).click()"
   ]
  },
  {
   "cell_type": "code",
   "execution_count": 9,
   "id": "82b54056-21f6-400b-9602-e94bd70d6cda",
   "metadata": {},
   "outputs": [],
   "source": [
    "# 카카오 API 사용하기\n",
    "url_header = 'https://dapi.kakao.com/v2/local/search/address.json?query='\n",
    "api_key = 'd2fb0b46a449c5e9e636a0078db80cc7'\n",
    "header = {'Authorization': 'KakaoAK ' + api_key}"
   ]
  },
  {
   "cell_type": "code",
   "execution_count": 10,
   "id": "45e22930-df07-4bdd-8acf-6bb8dc6d83d3",
   "metadata": {},
   "outputs": [],
   "source": [
    "# 주소를 입력 받아서 위도와 경도를 반환해주는 함수 구현\n",
    "def getGeoCoder(address):\n",
    "    result = ''\n",
    "    url = url_header + address\n",
    "    response = requests.get(url, headers=header)\n",
    "\n",
    "    # print(response)\n",
    "    # print(response.json())\n",
    "    \n",
    "    if response.status_code == 200:\n",
    "        try:\n",
    "            result_address = response.json()[\"documents\"][0][\"address\"]\n",
    "            result = result_address[\"y\"], result_address[\"x\"]\n",
    "        except Exception as err:\n",
    "            print(err)\n",
    "            return None\n",
    "    else:\n",
    "        result = \"ERROR[\" + str(response.status_code) + \"]\"       \n",
    "\n",
    "    return result \n",
    "# end def getGeoCoder(address) "
   ]
  },
  {
   "cell_type": "code",
   "execution_count": 11,
   "id": "444055de-5436-4caf-8bd6-b283ee0b9fa5",
   "metadata": {},
   "outputs": [
    {
     "name": "stdout",
     "output_type": "stream",
     "text": [
      "list index out of range\n"
     ]
    }
   ],
   "source": [
    "# 매장 주소 테스트\n",
    "# geoInfo = getGeoCoder('서울 중랑구 망우로 460 (망우동)')\n",
    "geoInfo = getGeoCoder('서울 영등포구 영등포로35길 19') # NoneType이 리턴되는 주소\n",
    "geoInfo"
   ]
  },
  {
   "cell_type": "code",
   "execution_count": 21,
   "id": "6d6289f2-d191-41ed-bca4-5f3974c589d0",
   "metadata": {},
   "outputs": [
    {
     "data": {
      "text/plain": [
       "0"
      ]
     },
     "execution_count": 21,
     "metadata": {},
     "output_type": "execute_result"
    }
   ],
   "source": [
    "setense = 'hello world'\n",
    "setense.index('l')\n",
    "setense.index('hello')"
   ]
  },
  {
   "cell_type": "code",
   "execution_count": 22,
   "id": "18e183ed-0890-4cf6-971d-92543939950c",
   "metadata": {},
   "outputs": [],
   "source": [
    "# 위도와 경도 추출에 문제가 있는 주소 정보들\n",
    "incorrect_address = []"
   ]
  },
  {
   "cell_type": "code",
   "execution_count": 23,
   "id": "9bd8a49f-90ea-4bc8-af8b-5b540493a43f",
   "metadata": {},
   "outputs": [
    {
     "data": {
      "application/vnd.jupyter.widget-view+json": {
       "model_id": "90c3e97728ca49bfa064391a3f4759c7",
       "version_major": 2,
       "version_minor": 0
      },
      "text/plain": [
       "  0%|          | 0/25 [00:00<?, ?it/s]"
      ]
     },
     "metadata": {},
     "output_type": "display_data"
    },
    {
     "name": "stdout",
     "output_type": "stream",
     "text": [
      "list index out of range\n",
      "list index out of range\n",
      "list index out of range\n",
      "이디야 매장 개수 : 514\n"
     ]
    }
   ],
   "source": [
    "ediyaData = [] # 이디야 매장 정보\n",
    "\n",
    "ediya_search_keyword_css = '#keyword' # 이디아 주소 검색 입력란\n",
    "ediya_search_button_css = '#keyword_div > form > button' # 이디야 주소 검색(돋보기) 버튼\n",
    "\n",
    "for gu in tqdm(guList):\n",
    "    WebDriverWait(driver, 20).until(EC.presence_of_element_located((By.CSS_SELECTOR, ediya_search_keyword_css))).clear()\n",
    "    # print(gu)\n",
    "    # 주소 검색란에 '구이름' 입력하기(예시 : 서울 강남구)\n",
    "    WebDriverWait(driver, 20).until(EC.presence_of_element_located((By.CSS_SELECTOR, ediya_search_keyword_css))).send_keys(f'서울 {gu}')\n",
    "    \n",
    "    WebDriverWait(driver, 20).until(EC.presence_of_element_located((By.CSS_SELECTOR, ediya_search_button_css))).click()\n",
    "\n",
    "    html = driver.page_source\n",
    "\n",
    "    # if gu == '강남구': # 강남구만 저장해 보기\n",
    "        # filename = open(f'서울 {gu}.html', mode='wt', encoding='UTF-8')\n",
    "        # print(html, file=filename)\n",
    "        # filename.close()\n",
    "        # print(f'서울 {gu}.html 파일 저장됨')\n",
    "    # # end if    \n",
    "\n",
    "    soup = BeautifulSoup(html, 'html.parser')\n",
    "    ul_tag = soup.find('ul', id='placesList')\n",
    "\n",
    "    oneGuEdiyaList = ul_tag.find_all('li')\n",
    "\n",
    "    for store in oneGuEdiyaList:\n",
    "        brand = '이디야'\n",
    "        name = store.find('dt').text.strip()\n",
    "        address = store.find('dd').text.strip()\n",
    "        imsi = address.split(' ')\n",
    "        # sido = imsi[0]\n",
    "        gungu = imsi[1]\n",
    "\n",
    "        # 위도와 경도 정보가 들어 있는 문자열\n",
    "        geoInfoString = store.find('a')['onclick']\n",
    "        # print(geoInfoString)\n",
    "\n",
    "        # if name == '개화산점':\n",
    "        #     print('위도 경도 확인')\n",
    "        #     print(geoInfoString)\n",
    "        # # end if   \n",
    "        \n",
    "        # 중간에 값이 변경이 되므로 원본 데이터를 백업 해둠\n",
    "        geoInfoImsi = geoInfoString \n",
    "\n",
    "        # 넘파이의 nan으로 무의미한 데이터 만들기\n",
    "        latitude = np.nan\n",
    "        longitude = np.nan\n",
    "        latLong = ['0', '0']\n",
    "\n",
    "        if geoInfoString.startswith('panLatTo') :\n",
    "            try:\n",
    "                if geoInfoString.index(\"panLatTo('0','0'\") == 0 :\n",
    "                    # 올바른 위도/경도 형식이 아니므로, address를 사용하여 kakao API에게 물어 보기 \n",
    "                    geoInfo = getGeoCoder(address)\n",
    "\n",
    "                    if geoInfo != None:\n",
    "                        latitude = geoInfo[0]  # 위도 \n",
    "                        longitude =geoInfo[1]  # 경도\n",
    "                    else :\n",
    "                        incorrect_address.append(address)\n",
    "                        latitude = None # 차후 보정 작업 예정 \n",
    "                        longitude = None \n",
    "            except Exception as err:\n",
    "                # 올바른 위도와 경도 정보 입니다.\n",
    "                latLong = geoInfoString.replace(\"panLatTo('\", \"\").replace(\");fnMove();\", \"\")\n",
    "                latLong = latLong.split(\"','\")\n",
    "\n",
    "                # 주의) '경도'가 먼저 나오고 '위도'가 뒤쪽에 나옴\n",
    "                latitude = latLong[1]  # 위도 \n",
    "                longitude = latLong[0]  # 경도\n",
    "            # end try\n",
    "            \n",
    "        else : # 'panAddTo'으로 시작하는 경우\n",
    "            geoInfo = getGeoCoder(address)\n",
    "\n",
    "            if geoInfo != None:\n",
    "                latitude = geoInfo[0]  # 위도 \n",
    "                longitude =geoInfo[1]  # 경도\n",
    "            else :\n",
    "                incorrect_address.append(address)\n",
    "                latitude = None # 차후 보정 작업 예정 \n",
    "                longitude = None \n",
    "        # end if\n",
    "\n",
    "        # # 올바른 위도 경도 형식이 아니면\n",
    "        # if latLong[1] == '0' or latLong[0] == '0':            \n",
    "        #     # 카카오 지도 api 이용하여 위도와 경도를 취득합니다.\n",
    "        #     geoInfo = getGeoCoder(address) \n",
    "        #     if geoInfo != None:\n",
    "        #         latitude = geoInfo[0] # 위도\n",
    "        #         longitude = geoInfo[1] # 경도\n",
    "        #     else:\n",
    "        #         print(f'part c : {address}')\n",
    "        # # end if        \n",
    "\n",
    "        ediyaData.append([brand, name, address, gungu, latitude, longitude])\n",
    "    # end inneer for        \n",
    "# end outer for    \n",
    "\n",
    "print('이디야 매장 개수 : %d' % len(ediyaData))"
   ]
  },
  {
   "cell_type": "code",
   "execution_count": 24,
   "id": "aba8f911-4ed8-4ee0-86d9-c657b9d69f26",
   "metadata": {},
   "outputs": [
    {
     "data": {
      "text/html": [
       "<div>\n",
       "<style scoped>\n",
       "    .dataframe tbody tr th:only-of-type {\n",
       "        vertical-align: middle;\n",
       "    }\n",
       "\n",
       "    .dataframe tbody tr th {\n",
       "        vertical-align: top;\n",
       "    }\n",
       "\n",
       "    .dataframe thead th {\n",
       "        text-align: right;\n",
       "    }\n",
       "</style>\n",
       "<table border=\"1\" class=\"dataframe\">\n",
       "  <thead>\n",
       "    <tr style=\"text-align: right;\">\n",
       "      <th></th>\n",
       "      <th>브랜드</th>\n",
       "      <th>상호</th>\n",
       "      <th>주소</th>\n",
       "      <th>군구</th>\n",
       "      <th>위도</th>\n",
       "      <th>경도</th>\n",
       "    </tr>\n",
       "  </thead>\n",
       "  <tbody>\n",
       "    <tr>\n",
       "      <th>0</th>\n",
       "      <td>이디야</td>\n",
       "      <td>강남YMCA점</td>\n",
       "      <td>서울 강남구 논현동</td>\n",
       "      <td>강남구</td>\n",
       "      <td>37.5126451506882</td>\n",
       "      <td>127.030154778539</td>\n",
       "    </tr>\n",
       "    <tr>\n",
       "      <th>1</th>\n",
       "      <td>이디야</td>\n",
       "      <td>강남구청역아이티웨딩점</td>\n",
       "      <td>서울 강남구 학동로 338 (논현동, 강남파라곤)</td>\n",
       "      <td>강남구</td>\n",
       "      <td>37.51654171724045</td>\n",
       "      <td>127.0401601992311</td>\n",
       "    </tr>\n",
       "    <tr>\n",
       "      <th>2</th>\n",
       "      <td>이디야</td>\n",
       "      <td>강남논현학동점</td>\n",
       "      <td>서울 강남구 논현로131길 28 (논현동)</td>\n",
       "      <td>강남구</td>\n",
       "      <td>37.51408005446769</td>\n",
       "      <td>127.02810578707652</td>\n",
       "    </tr>\n",
       "    <tr>\n",
       "      <th>3</th>\n",
       "      <td>이디야</td>\n",
       "      <td>강남대치점</td>\n",
       "      <td>서울 강남구 역삼로 415 (대치동, 성진빌딩)</td>\n",
       "      <td>강남구</td>\n",
       "      <td>37.50133876179308</td>\n",
       "      <td>127.05242928262568</td>\n",
       "    </tr>\n",
       "    <tr>\n",
       "      <th>4</th>\n",
       "      <td>이디야</td>\n",
       "      <td>강남도산점</td>\n",
       "      <td>서울 강남구 도산대로37길 20 (신사동)</td>\n",
       "      <td>강남구</td>\n",
       "      <td>37.5222784215718</td>\n",
       "      <td>127.031487626912</td>\n",
       "    </tr>\n",
       "  </tbody>\n",
       "</table>\n",
       "</div>"
      ],
      "text/plain": [
       "   브랜드           상호                           주소   군구                 위도  \\\n",
       "0  이디야      강남YMCA점                   서울 강남구 논현동  강남구   37.5126451506882   \n",
       "1  이디야  강남구청역아이티웨딩점  서울 강남구 학동로 338 (논현동, 강남파라곤)  강남구  37.51654171724045   \n",
       "2  이디야      강남논현학동점      서울 강남구 논현로131길 28 (논현동)  강남구  37.51408005446769   \n",
       "3  이디야        강남대치점   서울 강남구 역삼로 415 (대치동, 성진빌딩)  강남구  37.50133876179308   \n",
       "4  이디야        강남도산점      서울 강남구 도산대로37길 20 (신사동)  강남구   37.5222784215718   \n",
       "\n",
       "                   경도  \n",
       "0    127.030154778539  \n",
       "1   127.0401601992311  \n",
       "2  127.02810578707652  \n",
       "3  127.05242928262568  \n",
       "4    127.031487626912  "
      ]
     },
     "execution_count": 24,
     "metadata": {},
     "output_type": "execute_result"
    }
   ],
   "source": [
    "ediyaFrame = pd.DataFrame(ediyaData)\n",
    "ediyaFrame.columns = ['브랜드', '상호', '주소', '군구', '위도', '경도']\n",
    "ediyaFrame.head()"
   ]
  },
  {
   "cell_type": "code",
   "execution_count": 25,
   "id": "dd55dcf9-e7fc-4eba-aaf3-3266dc1c2d1e",
   "metadata": {},
   "outputs": [
    {
     "name": "stdout",
     "output_type": "stream",
     "text": [
      "위도 누락 데이터 개수 : 3\n",
      "경도 누락 데이터 개수 : 3\n"
     ]
    }
   ],
   "source": [
    "print('위도 누락 데이터 개수 : %d' % ediyaFrame['위도'].isnull().sum())\n",
    "print('경도 누락 데이터 개수 : %d' % ediyaFrame['경도'].isnull().sum())"
   ]
  },
  {
   "cell_type": "code",
   "execution_count": 45,
   "id": "85d42cb5-2061-498b-b56e-cc5049948012",
   "metadata": {},
   "outputs": [
    {
     "data": {
      "text/plain": [
       "['서울 노원구 한글비석로 409 (상계동) 1~2층',\n",
       " '서울 동작구 사당로16가길 96 (사당동) 1,2층',\n",
       " '서울 영등포구 영등포로35길 19 (영등포동6가)']"
      ]
     },
     "execution_count": 45,
     "metadata": {},
     "output_type": "execute_result"
    }
   ],
   "source": [
    "incorrect_address # 변환에 문제가 있었던 주소 목록"
   ]
  },
  {
   "cell_type": "code",
   "execution_count": 46,
   "id": "b1979124-63c9-483e-8ba8-bb5e79dab22f",
   "metadata": {},
   "outputs": [
    {
     "data": {
      "text/plain": [
       "['서울 노원구 한글비석로 409', '서울 동작구 사당로16가길 96', '서울 영등포구 영등포로35길 19']"
      ]
     },
     "execution_count": 46,
     "metadata": {},
     "output_type": "execute_result"
    }
   ],
   "source": [
    "# 주소 각각에 대하여 콤마를 스페이스로 치환하고, 공백 2칸도 1칸으로 치환합니다.\n",
    "# split() 메소드를 사용한 후, 0번째 3번째 까지 챙겨 옵니다.\n",
    "correction_address = [addr.replace(',', ' ').replace('  ', ' ').split(' ')[0:4] for addr in incorrect_address]\n",
    "# split() 함수로 나누어진 주소를 취합하여 보정된 주소로 변환합니다.\n",
    "correction_address = [' '.join(addr) for addr in correction_address]\n",
    "correction_address"
   ]
  },
  {
   "cell_type": "code",
   "execution_count": 47,
   "id": "65940049-7c4d-4a41-bb8a-710f070af29d",
   "metadata": {},
   "outputs": [
    {
     "name": "stdout",
     "output_type": "stream",
     "text": [
      "list index out of range\n"
     ]
    },
    {
     "data": {
      "text/plain": [
       "[('37.6611398931669', '127.070865352695'),\n",
       " ('37.485107611205', '126.968823424325'),\n",
       " None]"
      ]
     },
     "execution_count": 47,
     "metadata": {},
     "output_type": "execute_result"
    }
   ],
   "source": [
    "# 보정된 주소 이름으로 getGeoCoder 함수를 호출하여 위도와 경도를 추출해 냅니다.\n",
    "correction_geoInfo = [getGeoCoder(addr) for addr in correction_address]\n",
    "correction_geoInfo"
   ]
  },
  {
   "cell_type": "code",
   "execution_count": 48,
   "id": "b27cfbf0-2a6f-4abd-9ab3-dcd87345e5df",
   "metadata": {},
   "outputs": [
    {
     "data": {
      "text/plain": [
       "[('서울 노원구 한글비석로 409 (상계동) 1~2층', '37.6611398931669', '127.070865352695'),\n",
       " ('서울 동작구 사당로16가길 96 (사당동) 1,2층', '37.485107611205', '126.968823424325'),\n",
       " ('서울 영등포구 영등포로35길 19 (영등포동6가)', None, None)]"
      ]
     },
     "execution_count": 48,
     "metadata": {},
     "output_type": "execute_result"
    }
   ],
   "source": [
    "# 주소 정보와 위도 및 경도를 묶어서 하나의 tuple로 만든 목록들을 list에 저장합니다.\n",
    "correction_data = []\n",
    "\n",
    "for idx in range(len(incorrect_address)):\n",
    "    if correction_geoInfo[idx] == None :\n",
    "        correction_data.append((incorrect_address[idx], None, None))\n",
    "    else:\n",
    "        correction_data.append((incorrect_address[idx], correction_geoInfo[idx][0], correction_geoInfo[idx][1]))\n",
    "    # end if\n",
    "    \n",
    "correction_data"
   ]
  },
  {
   "cell_type": "code",
   "execution_count": 50,
   "id": "b00358fd-f7a2-4ffc-950b-47b30e7aab41",
   "metadata": {},
   "outputs": [],
   "source": [
    "# 반복문으로 각 행에 대한 보정 작업\n",
    "# onerow는 (주소, 위도, 경도) 정보를 담고 있는 tuple입니다.\n",
    "for onerow in correction_data:\n",
    "    ediyaFrame.loc[ediyaFrame['주소'] == onerow[0], ['위도', '경도']] = [onerow[1], onerow[2]]"
   ]
  },
  {
   "cell_type": "code",
   "execution_count": 51,
   "id": "1789f134-f65f-491b-afc9-c15d0d8104ae",
   "metadata": {},
   "outputs": [
    {
     "name": "stdout",
     "output_type": "stream",
     "text": [
      "위도 누락 데이터 개수 : 1\n",
      "경도 누락 데이터 개수 : 1\n"
     ]
    }
   ],
   "source": [
    "print('위도 누락 데이터 개수 : %d' % ediyaFrame['위도'].isnull().sum())\n",
    "print('경도 누락 데이터 개수 : %d' % ediyaFrame['경도'].isnull().sum())"
   ]
  },
  {
   "cell_type": "code",
   "execution_count": 52,
   "id": "a60820f8-9b64-4cfe-89ea-0704868b7fbe",
   "metadata": {},
   "outputs": [
    {
     "name": "stdout",
     "output_type": "stream",
     "text": [
      "<class 'pandas.core.frame.DataFrame'>\n",
      "RangeIndex: 514 entries, 0 to 513\n",
      "Data columns (total 6 columns):\n",
      " #   Column  Non-Null Count  Dtype \n",
      "---  ------  --------------  ----- \n",
      " 0   브랜드     514 non-null    object\n",
      " 1   상호      514 non-null    object\n",
      " 2   주소      514 non-null    object\n",
      " 3   군구      514 non-null    object\n",
      " 4   위도      513 non-null    object\n",
      " 5   경도      513 non-null    object\n",
      "dtypes: object(6)\n",
      "memory usage: 24.2+ KB\n"
     ]
    }
   ],
   "source": [
    "ediyaFrame.info()"
   ]
  },
  {
   "cell_type": "code",
   "execution_count": 53,
   "id": "fa1bfa9e-d909-41ea-9232-cf9a010442df",
   "metadata": {},
   "outputs": [
    {
     "name": "stdout",
     "output_type": "stream",
     "text": [
      "ediyaFile.csv 파일 저장됨\n"
     ]
    }
   ],
   "source": [
    "# 이디야 매장 csv 파일로 저장\n",
    "filename = 'ediyaFile.csv'\n",
    "# ediyaFrame.to_csv(filename, encoding='CP949', index=False)\n",
    "ediyaFrame.to_csv(filename, encoding='UTF-8', index=False)\n",
    "print(filename + ' 파일 저장됨')"
   ]
  },
  {
   "cell_type": "code",
   "execution_count": null,
   "id": "e6dae165-cfb0-493d-b026-19872520c512",
   "metadata": {},
   "outputs": [],
   "source": []
  },
  {
   "cell_type": "code",
   "execution_count": null,
   "id": "18ffa77b-3c00-4dc2-8d89-90f9ec4b5faa",
   "metadata": {},
   "outputs": [],
   "source": [
    "'''\n",
    "<img alt=\"테라스\" src=\"https://www.hollys.co.kr/websrc/images/store/img_store_s02.gif\" style=\"margin-right:1px\"/>\n",
    "<img alt=\"흡연시설\" src=\"https://www.hollys.co.kr/websrc/images/store/img_store_s04.gif\" style=\"margin-right:1px\"/>\n",
    "<img alt=\"주차\" src=\"https://www.hollys.co.kr/websrc/images/store/img_store_s08.png\" style=\"margin-right:1px\"/>\n",
    "<img src=\"https://www.hollys.co.kr/websrc/images/store/img_store_s06.gif\" style=\"margin-right:1px\" alt=\"24시간\">\n",
    "<img src=\"https://www.hollys.co.kr/websrc/images/store/img_store_s01.gif\" style=\"margin-right:1px\" alt=\"DT 매장\">\n",
    "'''"
   ]
  },
  {
   "cell_type": "code",
   "execution_count": 12,
   "id": "a37aab3e-b8c6-4d5d-922e-c1fc92065ed8",
   "metadata": {},
   "outputs": [],
   "source": [
    "hollys_base_url = 'https://www.hollys.co.kr/store/korea/korStore2.do'"
   ]
  },
  {
   "cell_type": "code",
   "execution_count": 13,
   "id": "a9f68cce-6b17-40cb-a9a8-4357ffeb4daf",
   "metadata": {},
   "outputs": [],
   "source": [
    "# 위도와 경도 추출에 문제가 있는 주소 정보들\n",
    "incorrect_address = []\n",
    "\n",
    "# 서비스 목록 이름을 저장해 놓은 전역 변수 : 타입은 list\n",
    "global_service_list = []"
   ]
  },
  {
   "cell_type": "code",
   "execution_count": 14,
   "id": "62ddbed3-b5e0-498d-8bc3-44fbd3945f8a",
   "metadata": {},
   "outputs": [],
   "source": [
    "# 페이지  번호를 추적하여 매장의 정보를 읽어 들이는 함수\n",
    "def get_store_data(page_no):\n",
    "    # 요청할 때 전송할 파라미터 정보\n",
    "    # 페이지 번호와 '서울' 지역만 조회 예정\n",
    "    parameters = {\n",
    "        'pageNo': page_no,\n",
    "        'sido': '서울',\n",
    "        'gugun': '', \n",
    "        'store': ''        \n",
    "    }    \n",
    "    \n",
    "    # url에 데이터 요청 보내기\n",
    "    response = requests.get(hollys_base_url, params=parameters)\n",
    "\n",
    "    if response.status_code == 200 :        \n",
    "        # print(response.text)\n",
    "        pass\n",
    "    else :\n",
    "        print(f'페이지 {page_no} 로딩에 실패하였습니다.')\n",
    "        return [] \n",
    "    # end if\n",
    "\n",
    "    soup = BeautifulSoup(response.text, 'html.parser') # HTML 문서 파싱\n",
    "    # table 태그의 'class' 속성이 'tb_store'인 요소를 찾습니다.\n",
    "    store_table = soup.find('table', {'class': 'tb_store'})\n",
    "    \n",
    "    all_store = store_table.find_all('tr')[1:] # 상단 table header는 제외하기  \n",
    "\n",
    "    if len(all_store) == 0 : # 매장 정보가 없으면 ...\n",
    "        return None\n",
    "\n",
    "    stores = [] # 현재 페이지에서 반환될 모든 매장 정보        \n",
    "\n",
    "    for one_store in all_store :\n",
    "        td_tags = one_store.find_all('td')\n",
    "\n",
    "        if len(td_tags) <= 1 : # 더 이상 매장 정보가 없으면 무시\n",
    "            continue\n",
    "        # end if\n",
    "        \n",
    "        brand = '할리스'\n",
    "        # region = td_tags[0].text.strip()\n",
    "        name = td_tags[1].text.strip()\n",
    "        address = td_tags[3].text.strip().replace(' .', '') # 주소 끝트러미에 \"공백.\" 치환\n",
    "        imsi = address.split(' ')\n",
    "        # sido = imsi[0]\n",
    "        gungu = imsi[1]\n",
    "\n",
    "        # 매장 서비스 목록 : 가능한 서비스들을 <img> 태그로 만들었습니다.\n",
    "        # 기본 값으로 모든 매장에서는 서비스 되는 게 없습니다.\n",
    "        service_dict = {'테라스':'no', '흡연시설':'no', '주차':'no', '24시간':'no', 'DT 매장':'no'}\n",
    "        \n",
    "        store_service = td_tags[4] # .text.strip() \n",
    "        # print('-' * 30)\n",
    "        # print(store_service)\n",
    "\n",
    "        service_img = store_service.find_all('img')\n",
    "        # print('-' * 30)\n",
    "        # print(f'img 태그 개수 : {len(service_img)}')\n",
    "\n",
    "        for image in service_img:\n",
    "            alt_tag = image.get('alt', '')\n",
    "            service_dict[alt_tag] = 'yes'\n",
    "\n",
    "        # print(name)\n",
    "        # print(service_dict)\n",
    "\n",
    "        # 사전을 정렬(숫자, 알파벳, 한글 순)하여 각, key들의 값 정보를 추출합니다.      \n",
    "        service_list = sorted(service_dict.keys())\n",
    "        service_data = [service_dict[key] for key in service_list]\n",
    "        # print(service_data) # stores list에 추가되어야 합니다.\n",
    "\n",
    "        global global_service_list # 나는 전역 변수입니다.\n",
    "        global_service_list = service_list\n",
    "        \n",
    "        phone_number = td_tags[5].text.strip() # 전화 번호\n",
    "        if phone_number == '.': # 전화 번호에 점만 들어 있는 경우\n",
    "            phone_number = None\n",
    "\n",
    "        # 위도와 경도에 대한 정보가 없습니다.\n",
    "        # 그래서, 주소 정보와 kakao API를 이용하여 구해야 합니다.\n",
    "        geoInfo  = getGeoCoder(address)\n",
    "        # print('geoInfo')\n",
    "        # print(geoInfo)\n",
    "\n",
    "        if geoInfo != None :\n",
    "            latitude = geoInfo[0]\n",
    "            longitude = geoInfo[1]\n",
    "            \n",
    "        else : # 위도와 경도 변환이 잘 안되는 주소들\n",
    "            # print(address)\n",
    "            incorrect_address.append(address)\n",
    "            latitude = None\n",
    "            longitude = None\n",
    "        # end if   \n",
    "        \n",
    "        # list에 + 기호를 사용하면, 요소들을 합쳐줍니다.\n",
    "        stores.append([brand, name, address, gungu, latitude, longitude, phone_number] + service_data)\n",
    "    # end for  \n",
    "\n",
    "    return stores\n",
    "# end def get_store_data(page_no)    "
   ]
  },
  {
   "cell_type": "code",
   "execution_count": 15,
   "id": "211fe8fb-15dd-43c6-875a-ef831a210165",
   "metadata": {},
   "outputs": [
    {
     "name": "stdout",
     "output_type": "stream",
     "text": [
      "현재 1 페이지를 크롤링 중입니다.\n",
      "list index out of range\n",
      "현재 2 페이지를 크롤링 중입니다.\n",
      "현재 3 페이지를 크롤링 중입니다.\n",
      "list index out of range\n",
      "list index out of range\n",
      "list index out of range\n",
      "현재 4 페이지를 크롤링 중입니다.\n",
      "list index out of range\n",
      "현재 5 페이지를 크롤링 중입니다.\n",
      "list index out of range\n",
      "list index out of range\n",
      "list index out of range\n",
      "list index out of range\n",
      "현재 6 페이지를 크롤링 중입니다.\n",
      "list index out of range\n",
      "list index out of range\n",
      "list index out of range\n",
      "현재 7 페이지를 크롤링 중입니다.\n",
      "list index out of range\n",
      "list index out of range\n",
      "현재 8 페이지를 크롤링 중입니다.\n",
      "list index out of range\n",
      "list index out of range\n",
      "현재 9 페이지를 크롤링 중입니다.\n",
      "list index out of range\n",
      "현재 10 페이지를 크롤링 중입니다.\n",
      "list index out of range\n",
      "현재 11 페이지를 크롤링 중입니다.\n",
      "list index out of range\n",
      "list index out of range\n",
      "현재 12 페이지를 크롤링 중입니다.\n",
      "현재 13 페이지를 크롤링 중입니다.\n",
      "list index out of range\n",
      "현재 14 페이지를 크롤링 중입니다.\n",
      "현재 15 페이지를 크롤링 중입니다.\n"
     ]
    }
   ],
   "source": [
    "hollysData = [] # 매장 정보를 저장할 리스트\n",
    "page_no = 1 # 페이지 번호를 +1씩 증가하면서 크롤링\n",
    "\n",
    "while True :\n",
    "    print(f'현재 {page_no} 페이지를 크롤링 중입니다.')\n",
    "    stores = get_store_data(page_no)\n",
    "\n",
    "    if not stores :\n",
    "    # if page_no == 5 :\n",
    "        break # 더 이상 매장 정보가 없으므로 빠져 나가기\n",
    "\n",
    "    hollysData.extend(stores)\n",
    "    page_no += 1    \n",
    "# end while True    "
   ]
  },
  {
   "cell_type": "code",
   "execution_count": 16,
   "id": "469091e1-81b6-4777-b03e-b2de83754a0d",
   "metadata": {},
   "outputs": [
    {
     "name": "stdout",
     "output_type": "stream",
     "text": [
      "총 132 개의 매장 정보가 수집되었습니다.\n"
     ]
    }
   ],
   "source": [
    "# 크롤링한 데이터를 DataFrame으로 변환\n",
    "hollysFrame = pd.DataFrame(hollysData)\n",
    "print(f'총 {len(hollysFrame)} 개의 매장 정보가 수집되었습니다.')"
   ]
  },
  {
   "cell_type": "code",
   "execution_count": 17,
   "id": "e5064539-7166-46e2-964a-e6d546bf7eab",
   "metadata": {},
   "outputs": [
    {
     "data": {
      "text/html": [
       "<div>\n",
       "<style scoped>\n",
       "    .dataframe tbody tr th:only-of-type {\n",
       "        vertical-align: middle;\n",
       "    }\n",
       "\n",
       "    .dataframe tbody tr th {\n",
       "        vertical-align: top;\n",
       "    }\n",
       "\n",
       "    .dataframe thead th {\n",
       "        text-align: right;\n",
       "    }\n",
       "</style>\n",
       "<table border=\"1\" class=\"dataframe\">\n",
       "  <thead>\n",
       "    <tr style=\"text-align: right;\">\n",
       "      <th></th>\n",
       "      <th>브랜드</th>\n",
       "      <th>상호</th>\n",
       "      <th>주소</th>\n",
       "      <th>군구</th>\n",
       "      <th>위도</th>\n",
       "      <th>경도</th>\n",
       "      <th>전화 번호</th>\n",
       "      <th>24시간</th>\n",
       "      <th>DT 매장</th>\n",
       "      <th>주차</th>\n",
       "      <th>테라스</th>\n",
       "      <th>흡연시설</th>\n",
       "    </tr>\n",
       "  </thead>\n",
       "  <tbody>\n",
       "    <tr>\n",
       "      <th>0</th>\n",
       "      <td>할리스</td>\n",
       "      <td>서서울공원점2</td>\n",
       "      <td>서울특별시 양천구 남부순환로58길 37 신월동 205-36</td>\n",
       "      <td>양천구</td>\n",
       "      <td>37.5291587223783</td>\n",
       "      <td>126.831707115465</td>\n",
       "      <td>070-4277-6756</td>\n",
       "      <td>no</td>\n",
       "      <td>no</td>\n",
       "      <td>yes</td>\n",
       "      <td>yes</td>\n",
       "      <td>no</td>\n",
       "    </tr>\n",
       "    <tr>\n",
       "      <th>1</th>\n",
       "      <td>할리스</td>\n",
       "      <td>경희대 청운관점</td>\n",
       "      <td>서울 동대문구 경희대로 26 청운관 지하1층</td>\n",
       "      <td>동대문구</td>\n",
       "      <td>37.5939491407769</td>\n",
       "      <td>127.054890960564</td>\n",
       "      <td>None</td>\n",
       "      <td>no</td>\n",
       "      <td>no</td>\n",
       "      <td>no</td>\n",
       "      <td>no</td>\n",
       "      <td>no</td>\n",
       "    </tr>\n",
       "    <tr>\n",
       "      <th>2</th>\n",
       "      <td>할리스</td>\n",
       "      <td>덕성여대점</td>\n",
       "      <td>서울시 강북구 삼양로 547 1~3층</td>\n",
       "      <td>강북구</td>\n",
       "      <td>None</td>\n",
       "      <td>None</td>\n",
       "      <td>02-6093-0011</td>\n",
       "      <td>no</td>\n",
       "      <td>no</td>\n",
       "      <td>yes</td>\n",
       "      <td>yes</td>\n",
       "      <td>no</td>\n",
       "    </tr>\n",
       "    <tr>\n",
       "      <th>3</th>\n",
       "      <td>할리스</td>\n",
       "      <td>메리츠봉래타워점</td>\n",
       "      <td>서울시 중구 칠패로 28 메리츠강북타워 1층</td>\n",
       "      <td>중구</td>\n",
       "      <td>37.5592510458885</td>\n",
       "      <td>126.97211628887</td>\n",
       "      <td>02-753-8835</td>\n",
       "      <td>no</td>\n",
       "      <td>no</td>\n",
       "      <td>no</td>\n",
       "      <td>no</td>\n",
       "      <td>no</td>\n",
       "    </tr>\n",
       "    <tr>\n",
       "      <th>4</th>\n",
       "      <td>할리스</td>\n",
       "      <td>길동포유르센티점</td>\n",
       "      <td>서울특별시 강동구 진황도로 104 1층 101~102호(길동 458)</td>\n",
       "      <td>강동구</td>\n",
       "      <td>37.535331138953</td>\n",
       "      <td>127.137825166105</td>\n",
       "      <td>02-487-9997</td>\n",
       "      <td>no</td>\n",
       "      <td>no</td>\n",
       "      <td>no</td>\n",
       "      <td>no</td>\n",
       "      <td>no</td>\n",
       "    </tr>\n",
       "  </tbody>\n",
       "</table>\n",
       "</div>"
      ],
      "text/plain": [
       "   브랜드        상호                                      주소    군구  \\\n",
       "0  할리스   서서울공원점2        서울특별시 양천구 남부순환로58길 37 신월동 205-36   양천구   \n",
       "1  할리스  경희대 청운관점                서울 동대문구 경희대로 26 청운관 지하1층  동대문구   \n",
       "2  할리스     덕성여대점                    서울시 강북구 삼양로 547 1~3층   강북구   \n",
       "3  할리스  메리츠봉래타워점                서울시 중구 칠패로 28 메리츠강북타워 1층    중구   \n",
       "4  할리스  길동포유르센티점  서울특별시 강동구 진황도로 104 1층 101~102호(길동 458)   강동구   \n",
       "\n",
       "                 위도                경도          전화 번호 24시간 DT 매장   주차  테라스 흡연시설  \n",
       "0  37.5291587223783  126.831707115465  070-4277-6756   no    no  yes  yes   no  \n",
       "1  37.5939491407769  127.054890960564           None   no    no   no   no   no  \n",
       "2              None              None   02-6093-0011   no    no  yes  yes   no  \n",
       "3  37.5592510458885   126.97211628887    02-753-8835   no    no   no   no   no  \n",
       "4   37.535331138953  127.137825166105    02-487-9997   no    no   no   no   no  "
      ]
     },
     "execution_count": 17,
     "metadata": {},
     "output_type": "execute_result"
    }
   ],
   "source": [
    "column_list = ['브랜드', '상호', '주소', '군구', '위도', '경도', '전화 번호'] + global_service_list\n",
    "hollysFrame.columns = column_list\n",
    "hollysFrame.head()"
   ]
  },
  {
   "cell_type": "code",
   "execution_count": 18,
   "id": "d3f706a3-4e91-4322-9dbb-575532942141",
   "metadata": {},
   "outputs": [],
   "source": [
    "# 크롤링 이후 생성된 데이터 프레임에 대한 보정 작업"
   ]
  },
  {
   "cell_type": "code",
   "execution_count": 19,
   "id": "8486c069-873c-491a-8dd9-a06799e37ea9",
   "metadata": {},
   "outputs": [
    {
     "data": {
      "text/plain": [
       "['서울시 강북구 삼양로 547 1~3층',\n",
       " '서울특별시 강서구 등촌로 229 (등촌동) 1~2층',\n",
       " '서울특별시 송파구 석촌호수로 130 (삼전동, 신원빌딩) 삼전동 1-1외 3필지',\n",
       " '서울특별시 구로구 새말로 97 (구로동, 신도림테크노마트) 104~106호',\n",
       " '서울특별시 금천구 가산디지털1로 146 (가산동) 109,110,111호',\n",
       " '서울특별시 서대문구 홍제내길 52,1~2층 (홍제동 361-49)',\n",
       " '서울특별시 동작구 흑석로 77 (흑석동) 1~4층',\n",
       " '서울특별시 종로구 성균관로 6 (명륜2가 204) 1~4층',\n",
       " '서울특별시 종로구  청계천로 81 1,2,3,4층',\n",
       " '서울특별시 중구  세종대로 91 (태평로2가) 1~2층 할리스',\n",
       " '서울특별시 강북구 도봉로 203, 1-2층 미아동 209-2',\n",
       " '서울특별시 관악구 신림로 313 (신림동) 2-3층',\n",
       " '서울특별시 마포구 동교로 200 1~3층 동교동 158-26',\n",
       " '서울시 서대문구 통일로 87  미근동 257, NH농협생명빌딩 동관 1층',\n",
       " '서울특별시 강북구 도봉로82길 11 (번동) 2~4층',\n",
       " '서울특별시 마포구 어울마당로 111 (동교동) 2~4층',\n",
       " '서울시 영등포구 시흥대로 595 104~5호',\n",
       " '서울특별시 중구 명동3길 23 (을지로2가) 1~4층 할리스',\n",
       " '서울특별시 동작구 노량진로 157 (노량진동) 2-5층',\n",
       " '서울특별시 광진구 아차산로 235 (화양동)  235 (화양동)',\n",
       " '서울특별시 종로구 세종대로 161, 2~3층 (세종로 200) 할리스']"
      ]
     },
     "execution_count": 19,
     "metadata": {},
     "output_type": "execute_result"
    }
   ],
   "source": [
    "# 변환에 문제가 있었던 주소들\n",
    "incorrect_address"
   ]
  },
  {
   "cell_type": "code",
   "execution_count": 20,
   "id": "9404d0ca-791a-48d8-becb-311f9c59628c",
   "metadata": {},
   "outputs": [
    {
     "data": {
      "text/plain": [
       "[['서울시', '강북구', '삼양로', '547'],\n",
       " ['서울특별시', '강서구', '등촌로', '229'],\n",
       " ['서울특별시', '송파구', '석촌호수로', '130'],\n",
       " ['서울특별시', '구로구', '새말로', '97'],\n",
       " ['서울특별시', '금천구', '가산디지털1로', '146'],\n",
       " ['서울특별시', '서대문구', '홍제내길', '52'],\n",
       " ['서울특별시', '동작구', '흑석로', '77'],\n",
       " ['서울특별시', '종로구', '성균관로', '6'],\n",
       " ['서울특별시', '종로구', '청계천로', '81'],\n",
       " ['서울특별시', '중구', '세종대로', '91'],\n",
       " ['서울특별시', '강북구', '도봉로', '203'],\n",
       " ['서울특별시', '관악구', '신림로', '313'],\n",
       " ['서울특별시', '마포구', '동교로', '200'],\n",
       " ['서울시', '서대문구', '통일로', '87'],\n",
       " ['서울특별시', '강북구', '도봉로82길', '11'],\n",
       " ['서울특별시', '마포구', '어울마당로', '111'],\n",
       " ['서울시', '영등포구', '시흥대로', '595'],\n",
       " ['서울특별시', '중구', '명동3길', '23'],\n",
       " ['서울특별시', '동작구', '노량진로', '157'],\n",
       " ['서울특별시', '광진구', '아차산로', '235'],\n",
       " ['서울특별시', '종로구', '세종대로', '161']]"
      ]
     },
     "execution_count": 20,
     "metadata": {},
     "output_type": "execute_result"
    }
   ],
   "source": [
    "# 주소 각각에 대하여 콤마를 스페이스로 치환하고, 공백 2칸도 1칸으로 치환합니다.\n",
    "# split() 메소드를 사용한 후, 0번째 3번째 까지 챙겨 옵니다.\n",
    "correction_address = [addr.replace(',', ' ').replace('  ', ' ').split(' ')[0:4] for addr in incorrect_address]\n",
    "correction_address"
   ]
  },
  {
   "cell_type": "code",
   "execution_count": 21,
   "id": "5297211c-c047-46b7-a571-e800361461de",
   "metadata": {},
   "outputs": [
    {
     "data": {
      "text/plain": [
       "['서울시 강북구 삼양로 547',\n",
       " '서울특별시 강서구 등촌로 229',\n",
       " '서울특별시 송파구 석촌호수로 130',\n",
       " '서울특별시 구로구 새말로 97',\n",
       " '서울특별시 금천구 가산디지털1로 146',\n",
       " '서울특별시 서대문구 홍제내길 52',\n",
       " '서울특별시 동작구 흑석로 77',\n",
       " '서울특별시 종로구 성균관로 6',\n",
       " '서울특별시 종로구 청계천로 81',\n",
       " '서울특별시 중구 세종대로 91',\n",
       " '서울특별시 강북구 도봉로 203',\n",
       " '서울특별시 관악구 신림로 313',\n",
       " '서울특별시 마포구 동교로 200',\n",
       " '서울시 서대문구 통일로 87',\n",
       " '서울특별시 강북구 도봉로82길 11',\n",
       " '서울특별시 마포구 어울마당로 111',\n",
       " '서울시 영등포구 시흥대로 595',\n",
       " '서울특별시 중구 명동3길 23',\n",
       " '서울특별시 동작구 노량진로 157',\n",
       " '서울특별시 광진구 아차산로 235',\n",
       " '서울특별시 종로구 세종대로 161']"
      ]
     },
     "execution_count": 21,
     "metadata": {},
     "output_type": "execute_result"
    }
   ],
   "source": [
    "# split() 함수로 나누어진 주소를 취합하여 보정된 주소로 변환합니다.\n",
    "correction_address = [' '.join(addr) for addr in correction_address]\n",
    "correction_address"
   ]
  },
  {
   "cell_type": "code",
   "execution_count": 22,
   "id": "f11dabb2-f8e7-4084-8652-b5ebfa551664",
   "metadata": {},
   "outputs": [
    {
     "data": {
      "text/plain": [
       "[('37.6516375000425', '127.012463182729'),\n",
       " ('37.5502242501914', '126.863458548999'),\n",
       " ('37.5071964496082', '127.091386305975'),\n",
       " ('37.5070438414784', '126.890227293528'),\n",
       " ('37.4787027326644', '126.883148970201'),\n",
       " ('37.584802093985', '126.936166344795'),\n",
       " ('37.5069826807571', '126.958246364678'),\n",
       " ('37.5835462396105', '126.998405014649'),\n",
       " ('37.5685338389728', '126.986587063819'),\n",
       " ('37.5645596033775', '126.976563357262'),\n",
       " ('37.6267429749591', '127.02558867528'),\n",
       " ('37.4822379419784', '126.929691761099'),\n",
       " ('37.5577603250168', '126.923123267715'),\n",
       " ('37.5627767312819', '126.968512766878'),\n",
       " ('37.635885625547', '127.02438249679'),\n",
       " ('37.5548424769371', '126.922757662623'),\n",
       " ('37.4860957417996', '126.903464704536'),\n",
       " ('37.56475979513', '126.983417699752'),\n",
       " ('37.5139791754713', '126.9433563073'),\n",
       " ('37.5406129331373', '127.069530225646'),\n",
       " ('37.5706817202422', '126.976266788802')]"
      ]
     },
     "execution_count": 22,
     "metadata": {},
     "output_type": "execute_result"
    }
   ],
   "source": [
    "# 보정된 주소 이름으로 getGeoCoder 함수를 호출하여 위도와 경도를 추출해 냅니다.\n",
    "correction_geoInfo = [getGeoCoder(addr) for addr in correction_address]\n",
    "correction_geoInfo"
   ]
  },
  {
   "cell_type": "code",
   "execution_count": 23,
   "id": "6e92f64f-3863-4ede-b206-81e976361293",
   "metadata": {},
   "outputs": [
    {
     "data": {
      "text/plain": [
       "[('서울시 강북구 삼양로 547 1~3층', '37.6516375000425', '127.012463182729'),\n",
       " ('서울특별시 강서구 등촌로 229 (등촌동) 1~2층', '37.5502242501914', '126.863458548999'),\n",
       " ('서울특별시 송파구 석촌호수로 130 (삼전동, 신원빌딩) 삼전동 1-1외 3필지',\n",
       "  '37.5071964496082',\n",
       "  '127.091386305975'),\n",
       " ('서울특별시 구로구 새말로 97 (구로동, 신도림테크노마트) 104~106호',\n",
       "  '37.5070438414784',\n",
       "  '126.890227293528'),\n",
       " ('서울특별시 금천구 가산디지털1로 146 (가산동) 109,110,111호',\n",
       "  '37.4787027326644',\n",
       "  '126.883148970201'),\n",
       " ('서울특별시 서대문구 홍제내길 52,1~2층 (홍제동 361-49)',\n",
       "  '37.584802093985',\n",
       "  '126.936166344795'),\n",
       " ('서울특별시 동작구 흑석로 77 (흑석동) 1~4층', '37.5069826807571', '126.958246364678'),\n",
       " ('서울특별시 종로구 성균관로 6 (명륜2가 204) 1~4층', '37.5835462396105', '126.998405014649'),\n",
       " ('서울특별시 종로구  청계천로 81 1,2,3,4층', '37.5685338389728', '126.986587063819'),\n",
       " ('서울특별시 중구  세종대로 91 (태평로2가) 1~2층 할리스',\n",
       "  '37.5645596033775',\n",
       "  '126.976563357262'),\n",
       " ('서울특별시 강북구 도봉로 203, 1-2층 미아동 209-2', '37.6267429749591', '127.02558867528'),\n",
       " ('서울특별시 관악구 신림로 313 (신림동) 2-3층', '37.4822379419784', '126.929691761099'),\n",
       " ('서울특별시 마포구 동교로 200 1~3층 동교동 158-26', '37.5577603250168', '126.923123267715'),\n",
       " ('서울시 서대문구 통일로 87  미근동 257, NH농협생명빌딩 동관 1층',\n",
       "  '37.5627767312819',\n",
       "  '126.968512766878'),\n",
       " ('서울특별시 강북구 도봉로82길 11 (번동) 2~4층', '37.635885625547', '127.02438249679'),\n",
       " ('서울특별시 마포구 어울마당로 111 (동교동) 2~4층', '37.5548424769371', '126.922757662623'),\n",
       " ('서울시 영등포구 시흥대로 595 104~5호', '37.4860957417996', '126.903464704536'),\n",
       " ('서울특별시 중구 명동3길 23 (을지로2가) 1~4층 할리스', '37.56475979513', '126.983417699752'),\n",
       " ('서울특별시 동작구 노량진로 157 (노량진동) 2-5층', '37.5139791754713', '126.9433563073'),\n",
       " ('서울특별시 광진구 아차산로 235 (화양동)  235 (화양동)',\n",
       "  '37.5406129331373',\n",
       "  '127.069530225646'),\n",
       " ('서울특별시 종로구 세종대로 161, 2~3층 (세종로 200) 할리스',\n",
       "  '37.5706817202422',\n",
       "  '126.976266788802')]"
      ]
     },
     "execution_count": 23,
     "metadata": {},
     "output_type": "execute_result"
    }
   ],
   "source": [
    "# 주소 정보와 위도 및 경도를 묶어서 하나의 tuple로 만든 목록들을 list에 저장합니다.\n",
    "correction_data = [(incorrect_address[idx], correction_geoInfo[idx][0], correction_geoInfo[idx][1]) \n",
    "                  for idx in range(len(incorrect_address))]\n",
    "correction_data"
   ]
  },
  {
   "cell_type": "code",
   "execution_count": 24,
   "id": "c3942079-42f8-4173-a223-709b3ed47a3c",
   "metadata": {
    "scrolled": true
   },
   "outputs": [],
   "source": [
    "hollysFrame.loc[hollysFrame['전화 번호'] == '없음', ['전화 번호']] = [None]"
   ]
  },
  {
   "cell_type": "code",
   "execution_count": 25,
   "id": "889aeec4-fe8e-4feb-95e1-7d1e1f79e367",
   "metadata": {},
   "outputs": [],
   "source": [
    "# 반복문으로 각 행에 대한 보정 작업\n",
    "# onerow는 (주소, 위도, 경도) 정보를 담고 있는 tuple입니다.\n",
    "for onerow in correction_data:\n",
    "    hollysFrame.loc[hollysFrame['주소'] == onerow[0], ['위도', '경도']] = [onerow[1], onerow[2]]"
   ]
  },
  {
   "cell_type": "code",
   "execution_count": 26,
   "id": "817143dd-ad16-4fd1-ab09-82260af50cd7",
   "metadata": {},
   "outputs": [],
   "source": [
    "hollysFrame.loc[hollysFrame['전화 번호'] == '없음', ['전화 번호']] = [None]"
   ]
  },
  {
   "cell_type": "code",
   "execution_count": 27,
   "id": "9176a7d7-260e-4964-861d-e8c6069e7311",
   "metadata": {},
   "outputs": [
    {
     "name": "stdout",
     "output_type": "stream",
     "text": [
      "hollysFile.csv 파일이 저장되었습니다.\n"
     ]
    }
   ],
   "source": [
    "filename = 'hollysFile.csv'\n",
    "hollysFrame.to_csv(filename, encoding='UTF-8', index=False)\n",
    "print(f'{filename} 파일이 저장되었습니다.')"
   ]
  },
  {
   "cell_type": "code",
   "execution_count": null,
   "id": "7102af7c-0ef3-4d1d-92f0-7d429d9ad64e",
   "metadata": {},
   "outputs": [],
   "source": []
  },
  {
   "cell_type": "code",
   "execution_count": null,
   "id": "81e79cf0-279a-4624-82d1-8bdea65be1a7",
   "metadata": {},
   "outputs": [],
   "source": []
  },
  {
   "cell_type": "code",
   "execution_count": null,
   "id": "9e6ca541-1f84-4195-9bd4-0f21f424e676",
   "metadata": {},
   "outputs": [],
   "source": []
  },
  {
   "cell_type": "code",
   "execution_count": null,
   "id": "65f0ad00-6f9a-48ae-8abf-64e39c125c1b",
   "metadata": {},
   "outputs": [],
   "source": []
  },
  {
   "cell_type": "code",
   "execution_count": null,
   "id": "ba62dc13-fec0-4fda-a8cb-a8ca10417ec3",
   "metadata": {},
   "outputs": [],
   "source": []
  }
 ],
 "metadata": {
  "kernelspec": {
   "display_name": "Python 3 (ipykernel)",
   "language": "python",
   "name": "python3"
  },
  "language_info": {
   "codemirror_mode": {
    "name": "ipython",
    "version": 3
   },
   "file_extension": ".py",
   "mimetype": "text/x-python",
   "name": "python",
   "nbconvert_exporter": "python",
   "pygments_lexer": "ipython3",
   "version": "3.11.0"
  }
 },
 "nbformat": 4,
 "nbformat_minor": 5
}
