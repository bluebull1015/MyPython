{
 "cells": [
  {
   "cell_type": "code",
   "execution_count": 50,
   "id": "c3763a5c-4516-4826-a43a-f63a5d370be6",
   "metadata": {},
   "outputs": [],
   "source": [
    "import numpy as np\n",
    "import pandas as pd\n",
    "import requests\n",
    "import folium\n",
    "\n",
    "from tqdm.notebook import tqdm #진행바를 보여주는 역할을 한다.\n",
    "from bs4 import BeautifulSoup\n",
    "\n",
    "from selenium import webdriver  # Selenium WebDriver 모듈 가져오기\n",
    "from selenium.webdriver.chrome.service import Service  # Chrome WebDriver 서비스 관리 클래스 가져오기\n",
    "from selenium.webdriver.common.by import By  # 요소 선택을 위한 By 클래스 (id, class, xpath 등 사용)\n",
    "from selenium.webdriver.support.ui import WebDriverWait  # 명시적 대기를 위한 WebDriverWait 클래스\n",
    "from selenium.webdriver.support import expected_conditions as EC  # 명시적 대기 조건을 정의하는 EC 클래스"
   ]
  },
  {
   "cell_type": "code",
   "execution_count": 51,
   "id": "d564b547-a741-401f-bb8e-f87dfa80b6ea",
   "metadata": {},
   "outputs": [
    {
     "name": "stdout",
     "output_type": "stream",
     "text": [
      "<class 'selenium.webdriver.chrome.webdriver.WebDriver'>\n"
     ]
    }
   ],
   "source": [
    "chrome_options = webdriver.ChromeOptions()  # Chrome 브라우저 옵션 설정 객체 생성\n",
    "drive_path = 'chromedriver.exe'  # Chrome 드라이버 실행 파일 경로 지정\n",
    "myservice = Service(drive_path)  # Chrome 드라이버 서비스를 실행할 Service 객체 생성\n",
    "driver = webdriver.Chrome(service=myservice, options=chrome_options)  # Chrome 웹드라이버 객체 생성\n",
    "print(type(driver))  # 생성된 드라이버 객체의 타입 출력\n",
    "\n",
    "wait_time = 10  # 암시적 대기 시간(초) 설정\n",
    "driver.implicitly_wait(wait_time)  # 웹 요소가 로드될 때까지 최대 10초 동안 대기"
   ]
  },
  {
   "cell_type": "code",
   "execution_count": 200,
   "id": "9cfcfacd-44c8-4e6b-b9db-a81e38ab81be",
   "metadata": {},
   "outputs": [],
   "source": [
    "driver.maximize_window()  # 브라우저 창을 최대화"
   ]
  },
  {
   "cell_type": "code",
   "execution_count": 52,
   "id": "ce89acfa-c6e5-43f8-92c1-7567ee1f72da",
   "metadata": {},
   "outputs": [],
   "source": [
    "# 스타벅스 매장 찾기\n",
    "starbucks_url = 'https://www.starbucks.co.kr/store/store_map.do?disp=locale'\n",
    "driver.get(starbucks_url) #해당 페이지로 이동하시오."
   ]
  },
  {
   "cell_type": "code",
   "execution_count": 53,
   "id": "8d247f02-6ec1-47ae-a007-7b4a37e60933",
   "metadata": {},
   "outputs": [],
   "source": [
    "# 스타벅스 '서울' 링크 클릭\n",
    "starbucks_seoul_selector = '#container > div > form > fieldset > div > section > article.find_store_cont > article > article:nth-child(4) > div.loca_step1 > div.loca_step1_cont > ul > li:nth-child(1) > a'\n",
    "WebDriverWait(driver, 5).until(EC.presence_of_element_located((By.CSS_SELECTOR, starbucks_seoul_selector))).click()\n",
    "# 최대 5초 동안 starbucks_seoul_selector에 해당하는 요소가 HTML에 나타날 때까지 기다린다.\n",
    "# 요소가 나타나면 .click()을 실행하여 '서울' 링크를 클릭한다."
   ]
  },
  {
   "cell_type": "code",
   "execution_count": 54,
   "id": "f4f2020b-9e5f-45b7-b9e1-77a5e81104de",
   "metadata": {},
   "outputs": [],
   "source": [
    "# 스타벅스 '서울'-'전체' 링크 클릭\n",
    "starbucks_seoul_all = '#mCSB_2_container > ul > li:nth-child(1) > a'\n",
    "WebDriverWait(driver, 5).until(EC.presence_of_element_located((By.CSS_SELECTOR, starbucks_seoul_all))).click()"
   ]
  },
  {
   "cell_type": "code",
   "execution_count": 55,
   "id": "2cb314dd-d385-4b7e-a696-5dcafd6b0308",
   "metadata": {},
   "outputs": [
    {
     "name": "stdout",
     "output_type": "stream",
     "text": [
      "starbucks.html파일 생성됨\n"
     ]
    }
   ],
   "source": [
    "# 스타벅스 HTML 코드를 파싱하여 html 파일에 기록합니다.\n",
    "html = driver.page_source\n",
    "filename = 'starbucks.html'\n",
    "htmlFile = open(filename, mode='wt', encoding='UTF-8')\n",
    "print(html, file=htmlFile)\n",
    "print(filename + '파일 생성됨')\n",
    "htmlFile.close()"
   ]
  },
  {
   "cell_type": "code",
   "execution_count": 56,
   "id": "f3df5c76-e31c-430c-8c9c-6936800e7977",
   "metadata": {},
   "outputs": [
    {
     "name": "stdout",
     "output_type": "stream",
     "text": [
      "<class 'bs4.BeautifulSoup'>\n"
     ]
    }
   ],
   "source": [
    "# 파싱된 결과를 BeautifulSoup 객체로 생성합니다.\n",
    "soup = BeautifulSoup(html, 'html.parser')\n",
    "print(type(soup))"
   ]
  },
  {
   "cell_type": "code",
   "execution_count": 57,
   "id": "e691b9f3-63c6-4d8d-8b4e-738036cd2770",
   "metadata": {},
   "outputs": [
    {
     "name": "stdout",
     "output_type": "stream",
     "text": [
      "모든 매장 개수 : 633\n"
     ]
    }
   ],
   "source": [
    "container = soup.find('div', id = 'mCSB_3_container')\n",
    "storeAll = container.find_all('li')\n",
    "print(f'모든 매장 개수 : {len(storeAll)}')"
   ]
  },
  {
   "cell_type": "code",
   "execution_count": 58,
   "id": "a2ec8ec8-9eed-446d-ad96-9f6711bf7c8e",
   "metadata": {},
   "outputs": [
    {
     "name": "stdout",
     "output_type": "stream",
     "text": [
      "633\n"
     ]
    }
   ],
   "source": [
    "starbucksData = [] # 스타벅스 매장 목록을 저장할 리스트\n",
    "\n",
    "for store in storeAll:\n",
    "    brand = '스타벅스'\n",
    "    name = store.find('strong').text.strip() #상호\n",
    "    address = store.find('p').text.strip().replace('1522-3232','') #.text는 BeautifulSoup에서 HTML 태그 내부의 순수한 텍스트(문자열)만 가져오는 속성\n",
    "    imsi = address.split(' ')\n",
    "    # sido = imsi[0]\n",
    "    gungu = imsi[1]\n",
    "    latitude = store['data-lat']\n",
    "    longitude = store['data-long']\n",
    "    \n",
    "    starbucksData.append([brand, name, address, gungu, latitude, longitude])\n",
    "# end for\n",
    "\n",
    "print(len(starbucksData))\n",
    "# print(starbucksData)"
   ]
  },
  {
   "cell_type": "code",
   "execution_count": 59,
   "id": "81393e55-2856-4e6d-9074-8a490aac0f17",
   "metadata": {},
   "outputs": [
    {
     "data": {
      "text/html": [
       "<div>\n",
       "<style scoped>\n",
       "    .dataframe tbody tr th:only-of-type {\n",
       "        vertical-align: middle;\n",
       "    }\n",
       "\n",
       "    .dataframe tbody tr th {\n",
       "        vertical-align: top;\n",
       "    }\n",
       "\n",
       "    .dataframe thead th {\n",
       "        text-align: right;\n",
       "    }\n",
       "</style>\n",
       "<table border=\"1\" class=\"dataframe\">\n",
       "  <thead>\n",
       "    <tr style=\"text-align: right;\">\n",
       "      <th></th>\n",
       "      <th>브랜드</th>\n",
       "      <th>상호</th>\n",
       "      <th>주소</th>\n",
       "      <th>군구</th>\n",
       "      <th>위도</th>\n",
       "      <th>경도</th>\n",
       "    </tr>\n",
       "  </thead>\n",
       "  <tbody>\n",
       "    <tr>\n",
       "      <th>0</th>\n",
       "      <td>스타벅스</td>\n",
       "      <td>역삼아레나빌딩</td>\n",
       "      <td>서울특별시 강남구 언주로 425 (역삼동)</td>\n",
       "      <td>강남구</td>\n",
       "      <td>37.501087</td>\n",
       "      <td>127.043069</td>\n",
       "    </tr>\n",
       "    <tr>\n",
       "      <th>1</th>\n",
       "      <td>스타벅스</td>\n",
       "      <td>논현역사거리</td>\n",
       "      <td>서울특별시 강남구 강남대로 538 (논현동)</td>\n",
       "      <td>강남구</td>\n",
       "      <td>37.510178</td>\n",
       "      <td>127.022223</td>\n",
       "    </tr>\n",
       "    <tr>\n",
       "      <th>2</th>\n",
       "      <td>스타벅스</td>\n",
       "      <td>신사역성일빌딩</td>\n",
       "      <td>서울특별시 강남구 강남대로 584 (논현동)</td>\n",
       "      <td>강남구</td>\n",
       "      <td>37.5139309</td>\n",
       "      <td>127.0206057</td>\n",
       "    </tr>\n",
       "    <tr>\n",
       "      <th>3</th>\n",
       "      <td>스타벅스</td>\n",
       "      <td>국기원사거리</td>\n",
       "      <td>서울특별시 강남구 테헤란로 125 (역삼동)</td>\n",
       "      <td>강남구</td>\n",
       "      <td>37.499517</td>\n",
       "      <td>127.031495</td>\n",
       "    </tr>\n",
       "    <tr>\n",
       "      <th>4</th>\n",
       "      <td>스타벅스</td>\n",
       "      <td>대치재경빌딩</td>\n",
       "      <td>서울특별시 강남구 남부순환로 2947 (대치동)</td>\n",
       "      <td>강남구</td>\n",
       "      <td>37.494668</td>\n",
       "      <td>127.062583</td>\n",
       "    </tr>\n",
       "  </tbody>\n",
       "</table>\n",
       "</div>"
      ],
      "text/plain": [
       "    브랜드       상호                          주소   군구          위도           경도\n",
       "0  스타벅스  역삼아레나빌딩     서울특별시 강남구 언주로 425 (역삼동)  강남구   37.501087   127.043069\n",
       "1  스타벅스   논현역사거리    서울특별시 강남구 강남대로 538 (논현동)  강남구   37.510178   127.022223\n",
       "2  스타벅스  신사역성일빌딩    서울특별시 강남구 강남대로 584 (논현동)  강남구  37.5139309  127.0206057\n",
       "3  스타벅스   국기원사거리    서울특별시 강남구 테헤란로 125 (역삼동)  강남구   37.499517   127.031495\n",
       "4  스타벅스   대치재경빌딩  서울특별시 강남구 남부순환로 2947 (대치동)  강남구   37.494668   127.062583"
      ]
     },
     "execution_count": 59,
     "metadata": {},
     "output_type": "execute_result"
    }
   ],
   "source": [
    "sbDataFrame = pd.DataFrame(starbucksData)\n",
    "sbDataFrame.columns = ['브랜드', '상호', '주소', '군구', '위도', '경도']\n",
    "sbDataFrame.head()"
   ]
  },
  {
   "cell_type": "code",
   "execution_count": 60,
   "id": "06bba73f-ffd6-4a09-b511-4b9637abd9a2",
   "metadata": {},
   "outputs": [
    {
     "name": "stdout",
     "output_type": "stream",
     "text": [
      "위도 누락 데이터 개수 : 0\n",
      "위도 누락 데이터 개수 : 0\n"
     ]
    }
   ],
   "source": [
    "#위도와 경도가 없는 경우를 체크\n",
    "print('위도 누락 데이터 개수 : %d' %sbDataFrame['위도'].isnull().sum()) #True는 1, False는 0\n",
    "print('위도 누락 데이터 개수 : %d' %sbDataFrame['경도'].isnull().sum())"
   ]
  },
  {
   "cell_type": "code",
   "execution_count": 61,
   "id": "5cd7b4b0-6219-4780-90b8-2a10bd8a1173",
   "metadata": {},
   "outputs": [
    {
     "name": "stdout",
     "output_type": "stream",
     "text": [
      "서울시 구 목록 개수 : 25\n",
      "['강남구', '강북구', '강서구', '관악구', '광진구', '금천구', '노원구', '도봉구', '동작구', '마포구', '서대문구', '서초구', '성북구', '송파구', '양천구', '영등포구', '은평구', '종로구', '중구', '강동구', '구로구', '동대문구', '성동구', '용산구', '중랑구']\n"
     ]
    }
   ],
   "source": [
    "guList = list(sbDataFrame['군구'].unique())\n",
    "print('서울시 구 목록 개수 : %d' % len(guList))\n",
    "print(guList)"
   ]
  },
  {
   "cell_type": "code",
   "execution_count": null,
   "id": "fe90b9f4-5d06-4d69-8369-8bf5243ef885",
   "metadata": {},
   "outputs": [],
   "source": []
  },
  {
   "cell_type": "code",
   "execution_count": 62,
   "id": "9ac27df3-b0ca-4c18-b841-303cf8db755f",
   "metadata": {},
   "outputs": [],
   "source": [
    "#이디야 커피\n",
    "ediya_url = 'https://www.ediya.com/contents/find_store.html'\n",
    "driver.get(ediya_url)"
   ]
  },
  {
   "cell_type": "code",
   "execution_count": 63,
   "id": "76e035fd-3a1e-41ef-b8fd-d7e6919610c3",
   "metadata": {},
   "outputs": [],
   "source": [
    "#이디야에서 '주소' 클릭\n",
    "ediya_address_selector = '#contentWrap > div.contents > div > div.store_search_pop > ul > li:nth-child(2) > a'\n",
    "WebDriverWait(driver, 5).until(EC.presence_of_element_located((By.CSS_SELECTOR, ediya_address_selector))).click()"
   ]
  },
  {
   "cell_type": "code",
   "execution_count": 64,
   "id": "0a0b2faf-7891-4fed-9e44-f7daaf515533",
   "metadata": {},
   "outputs": [],
   "source": [
    "# 카카오 API 사용하기\n",
    "url_header = 'https://dapi.kakao.com/v2/local/search/address.json?query='\n",
    "api_key = '4f4c13640ddfce406af127ebf800e250'\n",
    "header = {'Authorization': 'KakaoAK ' + api_key}"
   ]
  },
  {
   "cell_type": "code",
   "execution_count": 65,
   "id": "ee70a829-8ff0-48ec-8993-2a53b8d98689",
   "metadata": {},
   "outputs": [],
   "source": [
    "# 주소를 입력 받아서 위도와 경도를 반환해주는 함수 구현.\n",
    "def getGeoCoder(address):\n",
    "    result=''\n",
    "    url = url_header + address\n",
    "    response = requests.get(url, headers=header)\n",
    "\n",
    "    # print(response)\n",
    "    # print(response.json())\n",
    "    \n",
    "    if response.status_code == 200:\n",
    "        try:\n",
    "            result_address = response.json()[\"documents\"][0][\"address\"]\n",
    "            result = result_address[\"y\"], result_address[\"x\"]\n",
    "        except Exception as err:\n",
    "            print(err)\n",
    "            return None\n",
    "    else:\n",
    "        result = \"ERROR[\" + str(response.status_code) + \"]\"\n",
    "        \n",
    "    return result\n",
    "#end def getGeoCoder(address)"
   ]
  },
  {
   "cell_type": "code",
   "execution_count": 66,
   "id": "fd8e5a3c-dc7c-458d-94b0-5af6aacc3a49",
   "metadata": {},
   "outputs": [
    {
     "name": "stdout",
     "output_type": "stream",
     "text": [
      "list index out of range\n"
     ]
    }
   ],
   "source": [
    "# 매장 주소 테스트\n",
    "# geoInfo = getGeoCoder('서울 중랑구 망우로 460 (망우동)')\n",
    "geoInfo = getGeoCoder('서울 노원구 한글비석로 409 (상계동) 1~2층') # NoneType이 리턴되는 주소\n",
    "geoInfo"
   ]
  },
  {
   "cell_type": "code",
   "execution_count": 76,
   "id": "f63fdc36-7cde-437e-b6b6-4e7109e49a49",
   "metadata": {},
   "outputs": [
    {
     "data": {
      "text/plain": [
       "0"
      ]
     },
     "execution_count": 76,
     "metadata": {},
     "output_type": "execute_result"
    }
   ],
   "source": [
    "setense = 'hello world'\n",
    "setense.index('l')\n",
    "setense.index('hello')"
   ]
  },
  {
   "cell_type": "code",
   "execution_count": null,
   "id": "7a034823-7f38-4602-bcb5-a21ca996d890",
   "metadata": {},
   "outputs": [],
   "source": [
    "import time\n",
    "\n",
    "\n",
    "ediya_search_keyword_css = '#keyword' #이디야 주소 검색 입력란\n",
    "ediya_search_button_css = '#keyword_div > form > button' #이디야 주소 검색(돋보기) 버튼\n",
    "ediyaData = [] #이디야 매장 정보\n",
    "for gu in tqdm(guList):    \n",
    "    \n",
    "    #설정한 시간(10초) 내에 요소가 나타나지 않으면 TimeoutException 오류가 발생\n",
    "    WebDriverWait(driver, 20).until(EC.presence_of_element_located((By.CSS_SELECTOR, ediya_search_keyword_css))).clear()\n",
    "\n",
    "    # 주소 검색란에 '구이름' 입력하기(예시 : 서울 강남구)\n",
    "    WebDriverWait(driver, 10).until(EC.presence_of_element_located((By.CSS_SELECTOR, ediya_search_keyword_css))).send_keys(f'서울 {gu}')\n",
    "\n",
    "    WebDriverWait(driver, 20).until(EC.presence_of_element_located((By.CSS_SELECTOR, ediya_search_button_css))).click()\n",
    "\n",
    "    html = driver.page_source #현재 웹페이지의 HTML 소스를 가져오는 코드\n",
    "    \n",
    "    # if gu in guList: #강남구만 저장해 보기.\n",
    "    #     filename = open(f'서울 {gu}.html', mode='wt', encoding='UTF-8')\n",
    "    #     print(html, file=filename) #현재 웹페이지의 HTML 소스(html)를 파일로 저장하는 코드\n",
    "    #     filename.close()\n",
    "    #     #open(f'서울 {gu}.html', mode='wt', encoding='UTF-8')\n",
    "    #     #➡ 이 코드만으로는 단순히 \"파일을 생성\"하고 \"쓰기(Write) 모드\"로 열기만 함.\n",
    "    #     #➡ 하지만 파일에 아무것도 쓰지 않으면, 빈 파일이 생성됨.\n",
    "    #     #따라서 파일에 데이터를 저장하려면 print(html, file=filename)을 추가해야 함.\n",
    "        \n",
    "    #     print(f'서울 {gu}.html 파일 저장됨')\n",
    "\n",
    "    soup = BeautifulSoup(html, 'html.parser') #parser : html문서가 맞는지 파싱한 후 sopu에 대입.\n",
    "    ul_tag = soup.find('ul', id='placesList')\n",
    "\n",
    "    oneGuEdiyaList = ul_tag.find_all('li')\n",
    "\n",
    "    for store in oneGuEdiyaList:\n",
    "        brand='이디야'\n",
    "        name = store.find('dt').text.strip()\n",
    "        address = store.find('dd').text.strip()\n",
    "        imsi = address.split(' ')\n",
    "        # sido = imsi[0]\n",
    "        gungu = imsi[1]\n",
    "\n",
    "        #위도와 경도 정보가 들어 있는 문자열\n",
    "        geoInfoString = store.find('a')['onclick']\n",
    "        # print(geoInfoString)\n",
    "\n",
    "        #중간에 값이 변경이 되므로 원본 데이터를 백업 해둠\n",
    "        geoInfoImsi = geoInfoString \n",
    "\n",
    "        # 넘파이의 nan으로 무의미한 데이터 만들기\n",
    "        latitude = np.nan\n",
    "        longitude = np.nan\n",
    "        latLong = ['0','0']\n",
    "\n",
    "        if geoInfoString.startswith('panLatTo'):\n",
    "            try:\n",
    "                if geoInfoString.index(\"panLatTo('0','0'\") == 0:\n",
    "                    #올바른 위경도 형식이 아니므로, address를 사용하여 kakao API에게 물어 보기\n",
    "                    getInfo = getGeoCoder(address)\n",
    "\n",
    "                    if getInfo != None:\n",
    "                        latitude = getInfo[0] #위도\n",
    "                        longitude = getInfo[1] #경도\n",
    "                    else:\n",
    "                        print(address)\n",
    "            except Exception as err:\n",
    "                #올바른 위도와 경도 정보 입니다.\n",
    "                latLong = geoInfoString.replace(\"panLatTo('\", \"\").replace(\");fnMove();\",\"\")\n",
    "                latLong = latLong.split(\"','\")\n",
    "                \n",
    "                latitude = latLong[0] #위도\n",
    "                longitude = latLong[1] #경도\n",
    "                pass\n",
    "            #end try\n",
    "        else: #'panAddTo'으로 시작하는 경우\n",
    "            getInfo = getGeoCoder(address)\n",
    "            if getInfo != None:\n",
    "                latitude = getInfo[0] #위도\n",
    "                longitude = getInfo[1] #경도\n",
    "            else:\n",
    "                print(address)\n",
    "            #end if\n",
    "                # 올바른 위도 경도 형식이 아니면\n",
    "            if latLong[1] == '0' or latLong[0] == '0':            \n",
    "                # 카카오 지도 api 이용하여 위도와 경도를 취득합니다.\n",
    "                geoInfo = getGeoCoder(address) \n",
    "                if geoInfo != None:\n",
    "                    latitude = geoInfo[0] # 위도\n",
    "                    longitude = geoInfo[1] # 경도\n",
    "                else:\n",
    "                    print(address)\n",
    "            # end if\n",
    "        ediyaData.append([brand,name,address,gungu,latitude,longitude]) #이렇게 리스트로 묶어서 한 번에 추가해야 2D리스트가 되어 데이터프레임으로 생성 가능.\n",
    "        \n",
    "    #end inner for\n",
    "#end for\n",
    "\n",
    "print('이디야 매장 개수 : %d' % len(ediyaData))\n",
    "print(ediyaData)"
   ]
  },
  {
   "cell_type": "code",
   "execution_count": 146,
   "id": "26dab0a2-04de-4b36-8aef-f760e1fad573",
   "metadata": {},
   "outputs": [
    {
     "data": {
      "text/html": [
       "<div>\n",
       "<style scoped>\n",
       "    .dataframe tbody tr th:only-of-type {\n",
       "        vertical-align: middle;\n",
       "    }\n",
       "\n",
       "    .dataframe tbody tr th {\n",
       "        vertical-align: top;\n",
       "    }\n",
       "\n",
       "    .dataframe thead th {\n",
       "        text-align: right;\n",
       "    }\n",
       "</style>\n",
       "<table border=\"1\" class=\"dataframe\">\n",
       "  <thead>\n",
       "    <tr style=\"text-align: right;\">\n",
       "      <th></th>\n",
       "      <th>브랜드</th>\n",
       "      <th>상호</th>\n",
       "      <th>주소</th>\n",
       "      <th>군구</th>\n",
       "      <th>위도</th>\n",
       "      <th>경도</th>\n",
       "    </tr>\n",
       "  </thead>\n",
       "  <tbody>\n",
       "    <tr>\n",
       "      <th>0</th>\n",
       "      <td>이디야</td>\n",
       "      <td>금란망우점</td>\n",
       "      <td>서울 중랑구 망우로 460 (망우동)</td>\n",
       "      <td>중랑구</td>\n",
       "      <td>37.6001065609187</td>\n",
       "      <td>127.103136691889</td>\n",
       "    </tr>\n",
       "    <tr>\n",
       "      <th>1</th>\n",
       "      <td>이디야</td>\n",
       "      <td>동원사거리점</td>\n",
       "      <td>서울 중랑구 겸재로 240 (면목동, 행복오피스텔)</td>\n",
       "      <td>중랑구</td>\n",
       "      <td>127.094182772191</td>\n",
       "      <td>37.5896269575279</td>\n",
       "    </tr>\n",
       "    <tr>\n",
       "      <th>2</th>\n",
       "      <td>이디야</td>\n",
       "      <td>망우중앙점</td>\n",
       "      <td>서울 중랑구 용마산로115길 109 (망우동, 한일써너스빌리젠시2단지)</td>\n",
       "      <td>중랑구</td>\n",
       "      <td>127.09415879594557</td>\n",
       "      <td>37.5974674047065</td>\n",
       "    </tr>\n",
       "    <tr>\n",
       "      <th>3</th>\n",
       "      <td>이디야</td>\n",
       "      <td>망우코레일점</td>\n",
       "      <td>서울 중랑구 망우로55길 11-10 (상봉동, 망우역)</td>\n",
       "      <td>중랑구</td>\n",
       "      <td>127.092756577852</td>\n",
       "      <td>37.5992876153903</td>\n",
       "    </tr>\n",
       "    <tr>\n",
       "      <th>4</th>\n",
       "      <td>이디야</td>\n",
       "      <td>먹골역점</td>\n",
       "      <td>서울 중랑구 동일로157길 13 (묵동)</td>\n",
       "      <td>중랑구</td>\n",
       "      <td>127.076897926489</td>\n",
       "      <td>37.6097411262067</td>\n",
       "    </tr>\n",
       "  </tbody>\n",
       "</table>\n",
       "</div>"
      ],
      "text/plain": [
       "   브랜드      상호                                       주소   군구  \\\n",
       "0  이디야   금란망우점                     서울 중랑구 망우로 460 (망우동)  중랑구   \n",
       "1  이디야  동원사거리점             서울 중랑구 겸재로 240 (면목동, 행복오피스텔)  중랑구   \n",
       "2  이디야   망우중앙점  서울 중랑구 용마산로115길 109 (망우동, 한일써너스빌리젠시2단지)  중랑구   \n",
       "3  이디야  망우코레일점           서울 중랑구 망우로55길 11-10 (상봉동, 망우역)  중랑구   \n",
       "4  이디야    먹골역점                   서울 중랑구 동일로157길 13 (묵동)  중랑구   \n",
       "\n",
       "                   위도                경도  \n",
       "0    37.6001065609187  127.103136691889  \n",
       "1    127.094182772191  37.5896269575279  \n",
       "2  127.09415879594557  37.5974674047065  \n",
       "3    127.092756577852  37.5992876153903  \n",
       "4    127.076897926489  37.6097411262067  "
      ]
     },
     "execution_count": 146,
     "metadata": {},
     "output_type": "execute_result"
    }
   ],
   "source": [
    "ediyaFrame = pd.DataFrame(ediyaData)\n",
    "ediyaFrame.columns = ['브랜드', '상호', '주소', '군구', '위도', '경도']\n",
    "ediyaFrame.head()"
   ]
  },
  {
   "cell_type": "code",
   "execution_count": 147,
   "id": "534ed921-80b0-4bc3-92f5-aa96514327f5",
   "metadata": {},
   "outputs": [
    {
     "name": "stdout",
     "output_type": "stream",
     "text": [
      "위도 누락 데이터 개수 : 3\n",
      "위도 누락 데이터 개수 : 3\n"
     ]
    }
   ],
   "source": [
    "print('위도 누락 데이터 개수 : %d' %ediyaFrame['위도'].isnull().sum()) #True는 1, False는 0\n",
    "print('위도 누락 데이터 개수 : %d' %ediyaFrame['경도'].isnull().sum())"
   ]
  },
  {
   "cell_type": "code",
   "execution_count": null,
   "id": "6d68554b-b583-4d0a-88ed-7360aff7e7e2",
   "metadata": {},
   "outputs": [],
   "source": []
  },
  {
   "cell_type": "code",
   "execution_count": null,
   "id": "7a85a5fa-c7ff-4266-88a8-ab0bf366943b",
   "metadata": {},
   "outputs": [],
   "source": []
  },
  {
   "cell_type": "code",
   "execution_count": null,
   "id": "00703f20-e5ec-45ee-ac1e-556d02c1d98d",
   "metadata": {},
   "outputs": [],
   "source": []
  },
  {
   "cell_type": "code",
   "execution_count": null,
   "id": "182f41e2-eb60-4d42-b519-1b2d3f38e765",
   "metadata": {},
   "outputs": [],
   "source": []
  },
  {
   "cell_type": "code",
   "execution_count": null,
   "id": "3332effc-bc26-4741-9cdc-852172549585",
   "metadata": {},
   "outputs": [],
   "source": []
  }
 ],
 "metadata": {
  "kernelspec": {
   "display_name": "Python 3 (ipykernel)",
   "language": "python",
   "name": "python3"
  },
  "language_info": {
   "codemirror_mode": {
    "name": "ipython",
    "version": 3
   },
   "file_extension": ".py",
   "mimetype": "text/x-python",
   "name": "python",
   "nbconvert_exporter": "python",
   "pygments_lexer": "ipython3",
   "version": "3.11.0"
  }
 },
 "nbformat": 4,
 "nbformat_minor": 5
}
