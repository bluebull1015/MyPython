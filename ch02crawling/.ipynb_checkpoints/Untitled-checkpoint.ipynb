{
 "cells": [
  {
   "cell_type": "code",
   "execution_count": 14,
   "id": "8d55ccda-13e7-4b2d-86a2-7d280b771bab",
   "metadata": {},
   "outputs": [],
   "source": [
    "import pandas as pd"
   ]
  },
  {
   "cell_type": "code",
   "execution_count": 15,
   "id": "18c211ec-2393-42b7-b18b-aa68ae8074b3",
   "metadata": {},
   "outputs": [
    {
     "name": "stdout",
     "output_type": "stream",
     "text": [
      "행수 : 100\n"
     ]
    },
    {
     "data": {
      "text/plain": [
       "Index(['peopleCd', 'peopleNm', 'peopleNmEn', 'repRoleNm', 'filmoNames'], dtype='object')"
      ]
     },
     "execution_count": 15,
     "metadata": {},
     "output_type": "execute_result"
    }
   ],
   "source": [
    "detail = pd.read_csv('kmdb13_get_movie_people_list.csv')\n",
    "print('행수 : ' + str(len(detail)))\n",
    "detail.columns"
   ]
  },
  {
   "cell_type": "code",
   "execution_count": 41,
   "id": "d214bb35-c612-4378-a8d5-ecdd0aab2955",
   "metadata": {},
   "outputs": [
    {
     "data": {
      "text/html": [
       "<div>\n",
       "<style scoped>\n",
       "    .dataframe tbody tr th:only-of-type {\n",
       "        vertical-align: middle;\n",
       "    }\n",
       "\n",
       "    .dataframe tbody tr th {\n",
       "        vertical-align: top;\n",
       "    }\n",
       "\n",
       "    .dataframe thead th {\n",
       "        text-align: right;\n",
       "    }\n",
       "</style>\n",
       "<table border=\"1\" class=\"dataframe\">\n",
       "  <thead>\n",
       "    <tr style=\"text-align: center;\">\n",
       "      <th></th>\n",
       "      <th>영화인코드</th>\n",
       "      <th>이름</th>\n",
       "      <th>영화인명</th>\n",
       "      <th>역할</th>\n",
       "      <th>출연작품수</th>\n",
       "    </tr>\n",
       "  </thead>\n",
       "  <tbody>\n",
       "    <tr>\n",
       "      <th>0</th>\n",
       "      <td>10000800</td>\n",
       "      <td>강윤수</td>\n",
       "      <td>KANG Youn-soo</td>\n",
       "      <td>감독</td>\n",
       "      <td>예스 평창!|황진이|란제리살인사건|연평해전|고백할 수 없는|우리들의 헤어진 여자친구...</td>\n",
       "    </tr>\n",
       "    <tr>\n",
       "      <th>1</th>\n",
       "      <td>10000975</td>\n",
       "      <td>이강희</td>\n",
       "      <td>LEE Kang Hee</td>\n",
       "      <td>캐스팅디렉터</td>\n",
       "      <td>어웨이크|발광하는 현대사|설계|내 사랑 유리에|간 큰 남자|기억의 집|기기묘묘2</td>\n",
       "    </tr>\n",
       "    <tr>\n",
       "      <th>2</th>\n",
       "      <td>10003531</td>\n",
       "      <td>김경룡</td>\n",
       "      <td>KIM Gyeong-ryong</td>\n",
       "      <td>배우</td>\n",
       "      <td>부전시장|세하별|용감한 시민|감동주의보|구원|개 같은 것들|슈팅걸스|아직 사랑하고 ...</td>\n",
       "    </tr>\n",
       "    <tr>\n",
       "      <th>3</th>\n",
       "      <td>10005072</td>\n",
       "      <td>김완동</td>\n",
       "      <td>KIM Wan-dong</td>\n",
       "      <td>동시녹음</td>\n",
       "      <td>부전시장|룩앳미 터치미 키스미|죽이러 간다|아들의 이름으로|선샤인 패밀리|나의이름|...</td>\n",
       "    </tr>\n",
       "    <tr>\n",
       "      <th>4</th>\n",
       "      <td>10005927</td>\n",
       "      <td>김진열</td>\n",
       "      <td>KIM Jin-yeol</td>\n",
       "      <td>감독</td>\n",
       "      <td>바로 지금 여기|왕십리 김종분|나쁜 나라|진옥 언니 학교 가다|잊혀진 여전사|땅, ...</td>\n",
       "    </tr>\n",
       "    <tr>\n",
       "      <th>...</th>\n",
       "      <td>...</td>\n",
       "      <td>...</td>\n",
       "      <td>...</td>\n",
       "      <td>...</td>\n",
       "      <td>...</td>\n",
       "    </tr>\n",
       "    <tr>\n",
       "      <th>48</th>\n",
       "      <td>20400632</td>\n",
       "      <td>하야시 유타</td>\n",
       "      <td>Yuta Hayashi</td>\n",
       "      <td>배우</td>\n",
       "      <td>해피엔드</td>\n",
       "    </tr>\n",
       "    <tr>\n",
       "      <th>49</th>\n",
       "      <td>20400633</td>\n",
       "      <td>시나 펭</td>\n",
       "      <td>Shina Peng</td>\n",
       "      <td>배우</td>\n",
       "      <td>해피엔드</td>\n",
       "    </tr>\n",
       "    <tr>\n",
       "      <th>50</th>\n",
       "      <td>20400634</td>\n",
       "      <td>아라지</td>\n",
       "      <td>ARAZI</td>\n",
       "      <td>배우</td>\n",
       "      <td>해피엔드</td>\n",
       "    </tr>\n",
       "    <tr>\n",
       "      <th>51</th>\n",
       "      <td>20400648</td>\n",
       "      <td>남혜원</td>\n",
       "      <td>NAM HYEWON</td>\n",
       "      <td>기타</td>\n",
       "      <td>올리브</td>\n",
       "    </tr>\n",
       "    <tr>\n",
       "      <th>52</th>\n",
       "      <td>20400689</td>\n",
       "      <td>민아람</td>\n",
       "      <td>minaram</td>\n",
       "      <td>배우</td>\n",
       "      <td>용감한 시민</td>\n",
       "    </tr>\n",
       "  </tbody>\n",
       "</table>\n",
       "<p>53 rows × 5 columns</p>\n",
       "</div>"
      ],
      "text/plain": [
       "      영화인코드     이름          영화인명          역할                         출연작품수                       \n",
       "0   10000800     강윤수     KANG Youn-soo      감독  예스 평창!|황진이|란제리살인사건|연평해전|고백할 수 없는|우리들의 헤어진 여자친구...\n",
       "1   10000975     이강희      LEE Kang Hee  캐스팅디렉터       어웨이크|발광하는 현대사|설계|내 사랑 유리에|간 큰 남자|기억의 집|기기묘묘2\n",
       "2   10003531     김경룡  KIM Gyeong-ryong      배우  부전시장|세하별|용감한 시민|감동주의보|구원|개 같은 것들|슈팅걸스|아직 사랑하고 ...\n",
       "3   10005072     김완동      KIM Wan-dong    동시녹음  부전시장|룩앳미 터치미 키스미|죽이러 간다|아들의 이름으로|선샤인 패밀리|나의이름|...\n",
       "4   10005927     김진열      KIM Jin-yeol      감독  바로 지금 여기|왕십리 김종분|나쁜 나라|진옥 언니 학교 가다|잊혀진 여전사|땅, ...\n",
       "..       ...     ...               ...     ...                                                ...\n",
       "48  20400632  하야시 유타      Yuta Hayashi      배우                                               해피엔드\n",
       "49  20400633    시나 펭        Shina Peng      배우                                               해피엔드\n",
       "50  20400634     아라지             ARAZI      배우                                               해피엔드\n",
       "51  20400648     남혜원        NAM HYEWON      기타                                                올리브\n",
       "52  20400689     민아람           minaram      배우                                             용감한 시민\n",
       "\n",
       "[53 rows x 5 columns]"
      ]
     },
     "execution_count": 41,
     "metadata": {},
     "output_type": "execute_result"
    }
   ],
   "source": [
    "pivot_frame = detail.pivot_table(\n",
    "    index=['peopleCd', 'peopleNm', 'peopleNmEn', 'repRoleNm', 'filmoNames'],  # 🔹 고유 코드, 이름, 역할을 기준으로 그룹화\n",
    "    # values=,\n",
    "    # aggfunc=lambda x: len(x.unique())  # 🔹 중복 제거 후 영화 개수 계산\n",
    ")\n",
    "\n",
    "# 📌 인덱스를 컬럼으로 변경한 후, 한글 컬럼명 적용\n",
    "pivot_frame = pivot_frame.reset_index().rename(columns={\n",
    "    'peopleCd': '영화인코드',\n",
    "    'peopleNm': '이름',\n",
    "    'peopleNmEn' : '영화인명',\n",
    "    'repRoleNm': '역할',\n",
    "    'filmoNames': '출연작품수'\n",
    "})\n",
    "\n",
    "\n",
    "pivot_frame\n",
    "\n",
    "\n"
   ]
  },
  {
   "cell_type": "code",
   "execution_count": null,
   "id": "64848c85-6618-4e6b-90b2-40cbe8108da4",
   "metadata": {},
   "outputs": [],
   "source": []
  }
 ],
 "metadata": {
  "kernelspec": {
   "display_name": "Python 3 (ipykernel)",
   "language": "python",
   "name": "python3"
  },
  "language_info": {
   "codemirror_mode": {
    "name": "ipython",
    "version": 3
   },
   "file_extension": ".py",
   "mimetype": "text/x-python",
   "name": "python",
   "nbconvert_exporter": "python",
   "pygments_lexer": "ipython3",
   "version": "3.11.0"
  }
 },
 "nbformat": 4,
 "nbformat_minor": 5
}
