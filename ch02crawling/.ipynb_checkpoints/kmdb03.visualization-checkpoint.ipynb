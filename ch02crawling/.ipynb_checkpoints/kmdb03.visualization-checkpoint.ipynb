{
 "cells": [
  {
   "cell_type": "code",
   "execution_count": 2,
   "id": "e9531307-211e-428a-989b-8d838ee7fa46",
   "metadata": {},
   "outputs": [],
   "source": [
    "import pandas as pd"
   ]
  },
  {
   "cell_type": "code",
   "execution_count": 3,
   "id": "c855e774-9d25-4e64-8245-73f28785c3d1",
   "metadata": {},
   "outputs": [
    {
     "name": "stdout",
     "output_type": "stream",
     "text": [
      "Index(['영화코드', '영화명국문', '영화명(영문)', '제작연도', '개봉일', '영화유형', '제작상태', '제작국가(전체)',\n",
      "       '영화장르(전체)', '대표 제작 국가', '대표 장르'],\n",
      "      dtype='object')\n"
     ]
    },
    {
     "data": {
      "text/html": [
       "<div>\n",
       "<style scoped>\n",
       "    .dataframe tbody tr th:only-of-type {\n",
       "        vertical-align: middle;\n",
       "    }\n",
       "\n",
       "    .dataframe tbody tr th {\n",
       "        vertical-align: top;\n",
       "    }\n",
       "\n",
       "    .dataframe thead th {\n",
       "        text-align: right;\n",
       "    }\n",
       "</style>\n",
       "<table border=\"1\" class=\"dataframe\">\n",
       "  <thead>\n",
       "    <tr style=\"text-align: right;\">\n",
       "      <th></th>\n",
       "      <th>영화코드</th>\n",
       "      <th>영화명국문</th>\n",
       "      <th>영화명(영문)</th>\n",
       "      <th>제작연도</th>\n",
       "      <th>개봉일</th>\n",
       "      <th>영화유형</th>\n",
       "      <th>제작상태</th>\n",
       "      <th>제작국가(전체)</th>\n",
       "      <th>영화장르(전체)</th>\n",
       "      <th>대표 제작 국가</th>\n",
       "      <th>대표 장르</th>\n",
       "    </tr>\n",
       "  </thead>\n",
       "  <tbody>\n",
       "    <tr>\n",
       "      <th>0</th>\n",
       "      <td>20252023</td>\n",
       "      <td>초혼, 다시 부르는 노래</td>\n",
       "      <td>The First Soul : Song Written Again</td>\n",
       "      <td>2024.0</td>\n",
       "      <td>20250319</td>\n",
       "      <td>장편</td>\n",
       "      <td>개봉예정</td>\n",
       "      <td>한국</td>\n",
       "      <td>드라마</td>\n",
       "      <td>한국</td>\n",
       "      <td>드라마</td>\n",
       "    </tr>\n",
       "    <tr>\n",
       "      <th>1</th>\n",
       "      <td>20253101</td>\n",
       "      <td>진격의 거인 더 라스트 어택</td>\n",
       "      <td>Attack on Titan The Movie : THE LAST ATTACK</td>\n",
       "      <td>2024.0</td>\n",
       "      <td>20250313</td>\n",
       "      <td>장편</td>\n",
       "      <td>개봉예정</td>\n",
       "      <td>일본</td>\n",
       "      <td>애니메이션</td>\n",
       "      <td>일본</td>\n",
       "      <td>애니메이션</td>\n",
       "    </tr>\n",
       "    <tr>\n",
       "      <th>2</th>\n",
       "      <td>20252507</td>\n",
       "      <td>준스톤 이어원</td>\n",
       "      <td>Junstone Year One</td>\n",
       "      <td>2025.0</td>\n",
       "      <td>20250306</td>\n",
       "      <td>장편</td>\n",
       "      <td>개봉</td>\n",
       "      <td>한국</td>\n",
       "      <td>다큐멘터리</td>\n",
       "      <td>한국</td>\n",
       "      <td>다큐멘터리</td>\n",
       "    </tr>\n",
       "    <tr>\n",
       "      <th>3</th>\n",
       "      <td>20251752</td>\n",
       "      <td>레드브릿지-나쁜 녀석들</td>\n",
       "      <td>NaN</td>\n",
       "      <td>2022.0</td>\n",
       "      <td>20250306</td>\n",
       "      <td>장편</td>\n",
       "      <td>개봉</td>\n",
       "      <td>일본</td>\n",
       "      <td>액션,드라마</td>\n",
       "      <td>일본</td>\n",
       "      <td>액션</td>\n",
       "    </tr>\n",
       "    <tr>\n",
       "      <th>4</th>\n",
       "      <td>20251754</td>\n",
       "      <td>괴담-도시전설</td>\n",
       "      <td>Sha-re Kowa:Urban Legends</td>\n",
       "      <td>2021.0</td>\n",
       "      <td>20250306</td>\n",
       "      <td>장편</td>\n",
       "      <td>개봉</td>\n",
       "      <td>일본</td>\n",
       "      <td>공포(호러)</td>\n",
       "      <td>일본</td>\n",
       "      <td>공포(호러)</td>\n",
       "    </tr>\n",
       "  </tbody>\n",
       "</table>\n",
       "</div>"
      ],
      "text/plain": [
       "       영화코드            영화명국문                                      영화명(영문)  \\\n",
       "0  20252023    초혼, 다시 부르는 노래          The First Soul : Song Written Again   \n",
       "1  20253101  진격의 거인 더 라스트 어택  Attack on Titan The Movie : THE LAST ATTACK   \n",
       "2  20252507          준스톤 이어원                            Junstone Year One   \n",
       "3  20251752     레드브릿지-나쁜 녀석들                                          NaN   \n",
       "4  20251754          괴담-도시전설                    Sha-re Kowa:Urban Legends   \n",
       "\n",
       "     제작연도       개봉일 영화유형  제작상태 제작국가(전체) 영화장르(전체) 대표 제작 국가   대표 장르  \n",
       "0  2024.0  20250319   장편  개봉예정       한국      드라마       한국     드라마  \n",
       "1  2024.0  20250313   장편  개봉예정       일본    애니메이션       일본   애니메이션  \n",
       "2  2025.0  20250306   장편    개봉       한국    다큐멘터리       한국   다큐멘터리  \n",
       "3  2022.0  20250306   장편    개봉       일본   액션,드라마       일본      액션  \n",
       "4  2021.0  20250306   장편    개봉       일본   공포(호러)       일본  공포(호러)  "
      ]
     },
     "execution_count": 3,
     "metadata": {},
     "output_type": "execute_result"
    }
   ],
   "source": [
    "kmdb = pd.read_csv('kmdb_get_movie_list.csv')\n",
    "\n",
    "column_dict = { \n",
    "   'movieCd':'영화코드', 'movieNm':'영화명국문', 'movieNmEn':'영화명(영문)', \n",
    "   'prdtYear':'제작연도', 'openDt':'개봉일', 'typeNm':'영화유형', \n",
    "   'prdtStatNm':'제작상태', 'nationAlt':'제작국가(전체)', 'genreAlt':'영화장르(전체)', \n",
    "   'repNationNm':'대표 제작 국가', 'repGenreNm':'대표 장르'\n",
    "}\n",
    "\n",
    "kmdb = kmdb.rename(columns = column_dict)\n",
    "print(kmdb.columns)\n",
    "kmdb.head()"
   ]
  },
  {
   "cell_type": "code",
   "execution_count": 4,
   "id": "66cd29b8-4197-4dd4-af07-b49aceec2ed4",
   "metadata": {},
   "outputs": [
    {
     "data": {
      "text/plain": [
       "영화코드         object\n",
       "영화명국문        object\n",
       "영화명(영문)      object\n",
       "제작연도        float64\n",
       "개봉일           int64\n",
       "영화유형         object\n",
       "제작상태         object\n",
       "제작국가(전체)     object\n",
       "영화장르(전체)     object\n",
       "대표 제작 국가     object\n",
       "대표 장르        object\n",
       "dtype: object"
      ]
     },
     "execution_count": 4,
     "metadata": {},
     "output_type": "execute_result"
    }
   ],
   "source": [
    "kmdb.dtypes"
   ]
  },
  {
   "cell_type": "code",
   "execution_count": 16,
   "id": "2e056d76-1316-4669-ae29-3c17f3babcf7",
   "metadata": {},
   "outputs": [
    {
     "data": {
      "text/html": [
       "<div>\n",
       "<style scoped>\n",
       "    .dataframe tbody tr th:only-of-type {\n",
       "        vertical-align: middle;\n",
       "    }\n",
       "\n",
       "    .dataframe tbody tr th {\n",
       "        vertical-align: top;\n",
       "    }\n",
       "\n",
       "    .dataframe thead th {\n",
       "        text-align: right;\n",
       "    }\n",
       "</style>\n",
       "<table border=\"1\" class=\"dataframe\">\n",
       "  <thead>\n",
       "    <tr style=\"text-align: right;\">\n",
       "      <th></th>\n",
       "      <th>영화코드</th>\n",
       "      <th>영화명국문</th>\n",
       "      <th>영화명(영문)</th>\n",
       "      <th>제작연도</th>\n",
       "      <th>개봉일</th>\n",
       "      <th>영화유형</th>\n",
       "      <th>제작상태</th>\n",
       "      <th>제작국가(전체)</th>\n",
       "      <th>영화장르(전체)</th>\n",
       "      <th>대표 제작 국가</th>\n",
       "      <th>대표 장르</th>\n",
       "      <th>개봉년도</th>\n",
       "      <th>개봉년월</th>\n",
       "    </tr>\n",
       "  </thead>\n",
       "  <tbody>\n",
       "    <tr>\n",
       "      <th>0</th>\n",
       "      <td>20252023</td>\n",
       "      <td>초혼, 다시 부르는 노래</td>\n",
       "      <td>The First Soul : Song Written Again</td>\n",
       "      <td>2024.0</td>\n",
       "      <td>20250319</td>\n",
       "      <td>장편</td>\n",
       "      <td>개봉예정</td>\n",
       "      <td>한국</td>\n",
       "      <td>드라마</td>\n",
       "      <td>한국</td>\n",
       "      <td>드라마</td>\n",
       "      <td>2025</td>\n",
       "      <td>202503</td>\n",
       "    </tr>\n",
       "    <tr>\n",
       "      <th>1</th>\n",
       "      <td>20253101</td>\n",
       "      <td>진격의 거인 더 라스트 어택</td>\n",
       "      <td>Attack on Titan The Movie : THE LAST ATTACK</td>\n",
       "      <td>2024.0</td>\n",
       "      <td>20250313</td>\n",
       "      <td>장편</td>\n",
       "      <td>개봉예정</td>\n",
       "      <td>일본</td>\n",
       "      <td>애니메이션</td>\n",
       "      <td>일본</td>\n",
       "      <td>애니메이션</td>\n",
       "      <td>2025</td>\n",
       "      <td>202503</td>\n",
       "    </tr>\n",
       "    <tr>\n",
       "      <th>2</th>\n",
       "      <td>20252507</td>\n",
       "      <td>준스톤 이어원</td>\n",
       "      <td>Junstone Year One</td>\n",
       "      <td>2025.0</td>\n",
       "      <td>20250306</td>\n",
       "      <td>장편</td>\n",
       "      <td>개봉</td>\n",
       "      <td>한국</td>\n",
       "      <td>다큐멘터리</td>\n",
       "      <td>한국</td>\n",
       "      <td>다큐멘터리</td>\n",
       "      <td>2025</td>\n",
       "      <td>202503</td>\n",
       "    </tr>\n",
       "    <tr>\n",
       "      <th>3</th>\n",
       "      <td>20251752</td>\n",
       "      <td>레드브릿지-나쁜 녀석들</td>\n",
       "      <td>NaN</td>\n",
       "      <td>2022.0</td>\n",
       "      <td>20250306</td>\n",
       "      <td>장편</td>\n",
       "      <td>개봉</td>\n",
       "      <td>일본</td>\n",
       "      <td>액션,드라마</td>\n",
       "      <td>일본</td>\n",
       "      <td>액션</td>\n",
       "      <td>2025</td>\n",
       "      <td>202503</td>\n",
       "    </tr>\n",
       "    <tr>\n",
       "      <th>4</th>\n",
       "      <td>20251754</td>\n",
       "      <td>괴담-도시전설</td>\n",
       "      <td>Sha-re Kowa:Urban Legends</td>\n",
       "      <td>2021.0</td>\n",
       "      <td>20250306</td>\n",
       "      <td>장편</td>\n",
       "      <td>개봉</td>\n",
       "      <td>일본</td>\n",
       "      <td>공포(호러)</td>\n",
       "      <td>일본</td>\n",
       "      <td>공포(호러)</td>\n",
       "      <td>2025</td>\n",
       "      <td>202503</td>\n",
       "    </tr>\n",
       "  </tbody>\n",
       "</table>\n",
       "</div>"
      ],
      "text/plain": [
       "       영화코드            영화명국문                                      영화명(영문)  \\\n",
       "0  20252023    초혼, 다시 부르는 노래          The First Soul : Song Written Again   \n",
       "1  20253101  진격의 거인 더 라스트 어택  Attack on Titan The Movie : THE LAST ATTACK   \n",
       "2  20252507          준스톤 이어원                            Junstone Year One   \n",
       "3  20251752     레드브릿지-나쁜 녀석들                                          NaN   \n",
       "4  20251754          괴담-도시전설                    Sha-re Kowa:Urban Legends   \n",
       "\n",
       "     제작연도       개봉일 영화유형  제작상태 제작국가(전체) 영화장르(전체) 대표 제작 국가   대표 장르  개봉년도  \\\n",
       "0  2024.0  20250319   장편  개봉예정       한국      드라마       한국     드라마  2025   \n",
       "1  2024.0  20250313   장편  개봉예정       일본    애니메이션       일본   애니메이션  2025   \n",
       "2  2025.0  20250306   장편    개봉       한국    다큐멘터리       한국   다큐멘터리  2025   \n",
       "3  2022.0  20250306   장편    개봉       일본   액션,드라마       일본      액션  2025   \n",
       "4  2021.0  20250306   장편    개봉       일본   공포(호러)       일본  공포(호러)  2025   \n",
       "\n",
       "     개봉년월  \n",
       "0  202503  \n",
       "1  202503  \n",
       "2  202503  \n",
       "3  202503  \n",
       "4  202503  "
      ]
     },
     "execution_count": 16,
     "metadata": {},
     "output_type": "execute_result"
    }
   ],
   "source": [
    "openYear = [str(item)[0:4] for item in kmdb['개봉일']]\n",
    "kmdb['개봉년도'] = openYear\n",
    "kmdb['개봉년월'] = [str(item)[0:6] for item in kmdb['개봉일']]\n",
    "kmdb.head()"
   ]
  },
  {
   "cell_type": "code",
   "execution_count": 17,
   "id": "e019d8ef-e98b-48d0-8c90-f67e4e942848",
   "metadata": {},
   "outputs": [
    {
     "data": {
      "text/plain": [
       "Index(['영화코드', '영화명국문', '영화명(영문)', '제작연도', '개봉일', '영화유형', '제작상태', '제작국가(전체)',\n",
       "       '영화장르(전체)', '대표 제작 국가', '대표 장르', '개봉년도', '개봉년월'],\n",
       "      dtype='object')"
      ]
     },
     "execution_count": 17,
     "metadata": {},
     "output_type": "execute_result"
    }
   ],
   "source": [
    "kmdb.columns"
   ]
  },
  {
   "cell_type": "code",
   "execution_count": 25,
   "id": "13d8224f-d5c4-4795-bda3-d3d115708426",
   "metadata": {},
   "outputs": [
    {
     "data": {
      "text/plain": [
       "True"
      ]
     },
     "execution_count": 25,
     "metadata": {},
     "output_type": "execute_result"
    }
   ],
   "source": [
    "#컬럼 재배치 작업\n",
    "column01 = ['영화코드', '영화명국문', '영화명(영문)', '개봉년도', '개봉년월', '개봉일'] #주요 컬럼\n",
    "column02 = ['대표 제작 국가', '대표 장르', '영화유형', '제작상태', '영화장르(전체)', '제작국가(전체)', '제작연도'] # 일반 컬럼\n",
    "myordering = column01 + column02\n",
    "\n",
    "#True이면 누락된 컬럼이 없음을 의미합니다.\n",
    "result = set(kmdb.columns) == set(myordering)\n",
    "result"
   ]
  },
  {
   "cell_type": "code",
   "execution_count": 27,
   "id": "dd707030-bd19-498b-b5b2-bcf3336b83c0",
   "metadata": {},
   "outputs": [
    {
     "data": {
      "text/html": [
       "<div>\n",
       "<style scoped>\n",
       "    .dataframe tbody tr th:only-of-type {\n",
       "        vertical-align: middle;\n",
       "    }\n",
       "\n",
       "    .dataframe tbody tr th {\n",
       "        vertical-align: top;\n",
       "    }\n",
       "\n",
       "    .dataframe thead th {\n",
       "        text-align: right;\n",
       "    }\n",
       "</style>\n",
       "<table border=\"1\" class=\"dataframe\">\n",
       "  <thead>\n",
       "    <tr style=\"text-align: right;\">\n",
       "      <th></th>\n",
       "      <th>영화코드</th>\n",
       "      <th>영화명국문</th>\n",
       "      <th>영화명(영문)</th>\n",
       "      <th>개봉년도</th>\n",
       "      <th>개봉년월</th>\n",
       "      <th>개봉일</th>\n",
       "      <th>대표 제작 국가</th>\n",
       "      <th>대표 장르</th>\n",
       "      <th>영화유형</th>\n",
       "      <th>제작상태</th>\n",
       "      <th>영화장르(전체)</th>\n",
       "      <th>제작국가(전체)</th>\n",
       "      <th>제작연도</th>\n",
       "    </tr>\n",
       "  </thead>\n",
       "  <tbody>\n",
       "    <tr>\n",
       "      <th>0</th>\n",
       "      <td>20252023</td>\n",
       "      <td>초혼, 다시 부르는 노래</td>\n",
       "      <td>The First Soul : Song Written Again</td>\n",
       "      <td>2025</td>\n",
       "      <td>202503</td>\n",
       "      <td>20250319</td>\n",
       "      <td>한국</td>\n",
       "      <td>드라마</td>\n",
       "      <td>장편</td>\n",
       "      <td>개봉예정</td>\n",
       "      <td>드라마</td>\n",
       "      <td>한국</td>\n",
       "      <td>2024.0</td>\n",
       "    </tr>\n",
       "    <tr>\n",
       "      <th>1</th>\n",
       "      <td>20253101</td>\n",
       "      <td>진격의 거인 더 라스트 어택</td>\n",
       "      <td>Attack on Titan The Movie : THE LAST ATTACK</td>\n",
       "      <td>2025</td>\n",
       "      <td>202503</td>\n",
       "      <td>20250313</td>\n",
       "      <td>일본</td>\n",
       "      <td>애니메이션</td>\n",
       "      <td>장편</td>\n",
       "      <td>개봉예정</td>\n",
       "      <td>애니메이션</td>\n",
       "      <td>일본</td>\n",
       "      <td>2024.0</td>\n",
       "    </tr>\n",
       "    <tr>\n",
       "      <th>2</th>\n",
       "      <td>20252507</td>\n",
       "      <td>준스톤 이어원</td>\n",
       "      <td>Junstone Year One</td>\n",
       "      <td>2025</td>\n",
       "      <td>202503</td>\n",
       "      <td>20250306</td>\n",
       "      <td>한국</td>\n",
       "      <td>다큐멘터리</td>\n",
       "      <td>장편</td>\n",
       "      <td>개봉</td>\n",
       "      <td>다큐멘터리</td>\n",
       "      <td>한국</td>\n",
       "      <td>2025.0</td>\n",
       "    </tr>\n",
       "    <tr>\n",
       "      <th>3</th>\n",
       "      <td>20251752</td>\n",
       "      <td>레드브릿지-나쁜 녀석들</td>\n",
       "      <td>NaN</td>\n",
       "      <td>2025</td>\n",
       "      <td>202503</td>\n",
       "      <td>20250306</td>\n",
       "      <td>일본</td>\n",
       "      <td>액션</td>\n",
       "      <td>장편</td>\n",
       "      <td>개봉</td>\n",
       "      <td>액션,드라마</td>\n",
       "      <td>일본</td>\n",
       "      <td>2022.0</td>\n",
       "    </tr>\n",
       "    <tr>\n",
       "      <th>4</th>\n",
       "      <td>20251754</td>\n",
       "      <td>괴담-도시전설</td>\n",
       "      <td>Sha-re Kowa:Urban Legends</td>\n",
       "      <td>2025</td>\n",
       "      <td>202503</td>\n",
       "      <td>20250306</td>\n",
       "      <td>일본</td>\n",
       "      <td>공포(호러)</td>\n",
       "      <td>장편</td>\n",
       "      <td>개봉</td>\n",
       "      <td>공포(호러)</td>\n",
       "      <td>일본</td>\n",
       "      <td>2021.0</td>\n",
       "    </tr>\n",
       "  </tbody>\n",
       "</table>\n",
       "</div>"
      ],
      "text/plain": [
       "       영화코드            영화명국문                                      영화명(영문)  \\\n",
       "0  20252023    초혼, 다시 부르는 노래          The First Soul : Song Written Again   \n",
       "1  20253101  진격의 거인 더 라스트 어택  Attack on Titan The Movie : THE LAST ATTACK   \n",
       "2  20252507          준스톤 이어원                            Junstone Year One   \n",
       "3  20251752     레드브릿지-나쁜 녀석들                                          NaN   \n",
       "4  20251754          괴담-도시전설                    Sha-re Kowa:Urban Legends   \n",
       "\n",
       "   개봉년도    개봉년월       개봉일 대표 제작 국가   대표 장르 영화유형  제작상태 영화장르(전체) 제작국가(전체)  \\\n",
       "0  2025  202503  20250319       한국     드라마   장편  개봉예정      드라마       한국   \n",
       "1  2025  202503  20250313       일본   애니메이션   장편  개봉예정    애니메이션       일본   \n",
       "2  2025  202503  20250306       한국   다큐멘터리   장편    개봉    다큐멘터리       한국   \n",
       "3  2025  202503  20250306       일본      액션   장편    개봉   액션,드라마       일본   \n",
       "4  2025  202503  20250306       일본  공포(호러)   장편    개봉   공포(호러)       일본   \n",
       "\n",
       "     제작연도  \n",
       "0  2024.0  \n",
       "1  2024.0  \n",
       "2  2025.0  \n",
       "3  2022.0  \n",
       "4  2021.0  "
      ]
     },
     "execution_count": 27,
     "metadata": {},
     "output_type": "execute_result"
    }
   ],
   "source": [
    "kmdb = kmdb[myordering] #컬럼 순서 바뀜.\n",
    "kmdb.head()"
   ]
  },
  {
   "cell_type": "code",
   "execution_count": 28,
   "id": "c11fe1b4-db27-4c76-9816-5b2e75686d79",
   "metadata": {},
   "outputs": [
    {
     "data": {
      "text/plain": [
       "array(['드라마', '애니메이션', '다큐멘터리', '액션', '공포(호러)', '미스터리', '스릴러', '성인물(에로)',\n",
       "       '멜로/로맨스', '판타지', '범죄', 'SF', '코미디', '공연', '어드벤처', '가족', '뮤지컬',\n",
       "       '기타', '전쟁', '사극', nan], dtype=object)"
      ]
     },
     "execution_count": 28,
     "metadata": {},
     "output_type": "execute_result"
    }
   ],
   "source": [
    "kmdb['대표 장르'].unique()"
   ]
  },
  {
   "cell_type": "code",
   "execution_count": 32,
   "id": "53d47abb-c75f-43bc-830c-9fecba6613ce",
   "metadata": {},
   "outputs": [
    {
     "data": {
      "text/plain": [
       "array(['드라마', '액션', '판타지', '코미디'], dtype=object)"
      ]
     },
     "execution_count": 32,
     "metadata": {},
     "output_type": "execute_result"
    }
   ],
   "source": [
    "#파이 그래프를 그리고자 하는 장르\n",
    "genre_filter = ['드라마','코미디','판타지','액션']\n",
    "genre_result = kmdb[kmdb['대표 장르'].isin(genre_filter)]\n",
    "genre_result['대표 장르'].unique()"
   ]
  },
  {
   "cell_type": "code",
   "execution_count": 36,
   "id": "08721be3-74c8-4a0e-a6ce-773c96bfc104",
   "metadata": {},
   "outputs": [
    {
     "data": {
      "text/html": [
       "<div>\n",
       "<style scoped>\n",
       "    .dataframe tbody tr th:only-of-type {\n",
       "        vertical-align: middle;\n",
       "    }\n",
       "\n",
       "    .dataframe tbody tr th {\n",
       "        vertical-align: top;\n",
       "    }\n",
       "\n",
       "    .dataframe thead th {\n",
       "        text-align: right;\n",
       "    }\n",
       "</style>\n",
       "<table border=\"1\" class=\"dataframe\">\n",
       "  <thead>\n",
       "    <tr style=\"text-align: right;\">\n",
       "      <th></th>\n",
       "      <th>count</th>\n",
       "    </tr>\n",
       "    <tr>\n",
       "      <th>대표 장르</th>\n",
       "      <th></th>\n",
       "    </tr>\n",
       "  </thead>\n",
       "  <tbody>\n",
       "    <tr>\n",
       "      <th>드라마</th>\n",
       "      <td>223</td>\n",
       "    </tr>\n",
       "    <tr>\n",
       "      <th>액션</th>\n",
       "      <td>65</td>\n",
       "    </tr>\n",
       "    <tr>\n",
       "      <th>코미디</th>\n",
       "      <td>38</td>\n",
       "    </tr>\n",
       "    <tr>\n",
       "      <th>판타지</th>\n",
       "      <td>14</td>\n",
       "    </tr>\n",
       "  </tbody>\n",
       "</table>\n",
       "</div>"
      ],
      "text/plain": [
       "       count\n",
       "대표 장르       \n",
       "드라마      223\n",
       "액션        65\n",
       "코미디       38\n",
       "판타지       14"
      ]
     },
     "execution_count": 36,
     "metadata": {},
     "output_type": "execute_result"
    }
   ],
   "source": [
    "chartData = genre_result['대표 장르'].value_counts() #제일 값이 큰 것을 먼저 보여줌.\n",
    "chartData.to_frame() #to_frame() 한시적으로 보기 좋게 바꿔줌."
   ]
  },
  {
   "cell_type": "code",
   "execution_count": 37,
   "id": "2af18d58-9915-4e00-9538-1577580dc4d7",
   "metadata": {},
   "outputs": [],
   "source": [
    "import matplotlib.pyplot as plt\n",
    "plt.rc('font', family='Malgun Gothic') #한글 깨짐 방지를 위한 \"맑은 고딕체\"로 지정"
   ]
  },
  {
   "cell_type": "code",
   "execution_count": 48,
   "id": "2d289fd1-149f-43fb-843e-f134f1b3f8c0",
   "metadata": {},
   "outputs": [
    {
     "data": {
      "text/plain": [
       "<Axes: ylabel='count'>"
      ]
     },
     "execution_count": 48,
     "metadata": {},
     "output_type": "execute_result"
    },
    {
     "data": {
      "image/png": "[encoded data removed]",
      "text/plain": [
       "<Figure size 640x480 with 1 Axes>"
      ]
     },
     "metadata": {},
     "output_type": "display_data"
    }
   ],
   "source": [
    "chartData.plot(kind='pie', autopct='%1.2f%%', explode=[0,0.1,0,0.2]) #plot() : 데이터를 시각적으로 표현하는 그래프(차트)를 그리는 함수"
   ]
  },
  {
   "cell_type": "code",
   "execution_count": null,
   "id": "c6cbe2e1-0785-4de5-ba13-57ced547cf9c",
   "metadata": {},
   "outputs": [],
   "source": []
  },
  {
   "cell_type": "code",
   "execution_count": null,
   "id": "b7681380-ff11-4c9b-8259-dcef6ee50c90",
   "metadata": {},
   "outputs": [],
   "source": []
  }
 ],
 "metadata": {
  "kernelspec": {
   "display_name": "Python 3 (ipykernel)",
   "language": "python",
   "name": "python3"
  },
  "language_info": {
   "codemirror_mode": {
    "name": "ipython",
    "version": 3
   },
   "file_extension": ".py",
   "mimetype": "text/x-python",
   "name": "python",
   "nbconvert_exporter": "python",
   "pygments_lexer": "ipython3",
   "version": "3.11.0"
  }
 },
 "nbformat": 4,
 "nbformat_minor": 5
}
